{
 "cells": [
  {
   "cell_type": "code",
   "execution_count": 5,
   "metadata": {
    "collapsed": true
   },
   "outputs": [],
   "source": [
    "import pandas as pd\n",
    "import numpy as np\n",
    "import matplotlib.pyplot as plt\n",
    "import seaborn as sns\n",
    "import os\n"
   ]
  },
  {
   "cell_type": "markdown",
   "metadata": {},
   "source": [
    "## Initializing the variables"
   ]
  },
  {
   "cell_type": "code",
   "execution_count": 2,
   "metadata": {
    "collapsed": true
   },
   "outputs": [],
   "source": [
    "img =['img1']\n",
    "command_params = ['cp','mv','rm']\n",
    "cpu_memory_vars = dict()"
   ]
  },
  {
   "cell_type": "markdown",
   "metadata": {},
   "source": [
    "## Populating the variables"
   ]
  },
  {
   "cell_type": "code",
   "execution_count": 3,
   "metadata": {},
   "outputs": [
    {
     "data": {
      "text/plain": [
       "dict_values([[['x86-32', 'x86-64']], [['1 GB', '1 GB']], [['200 MB', '250 MB']]])"
      ]
     },
     "execution_count": 3,
     "metadata": {},
     "output_type": "execute_result"
    }
   ],
   "source": [
    "list2  = ['x86-32','x86-64']\n",
    "list3 = ['1 GB','1 GB']\n",
    "list4 =  ['200 MB','250 MB']\n",
    "\n",
    "\n",
    "cpu_memory_vars = {'CPU':[],'Memory':[],'Hard Disk':[]}\n",
    "cpu_memory_vars['CPU'].append(list2)\n",
    "cpu_memory_vars['Memory'].append(list3)\n",
    "cpu_memory_vars['Hard Disk'].append(list4)\n",
    "cpu_memory_vars.values()\n"
   ]
  },
  {
   "cell_type": "code",
   "execution_count": 6,
   "metadata": {},
   "outputs": [],
   "source": [
    "Var = []\n",
    "env_vars = dict()\n",
    "\n",
    "for a in os.environ:\n",
    "    val = os.getenv(a)\n",
    "    list1 = [a,val]\n",
    "    for line in list1:    \n",
    "        Var = list1[0]   \n",
    "        Value = list1[1]  \n",
    "        for line in list1:  \n",
    "            env_vars.setdefault(Var, []).append(Value)\n",
    "    "
   ]
  },
  {
   "cell_type": "code",
   "execution_count": 7,
   "metadata": {},
   "outputs": [
    {
     "data": {
      "text/plain": [
       "{'ALLUSERSPROFILE': ['C:\\\\ProgramData',\n",
       "  'C:\\\\ProgramData',\n",
       "  'C:\\\\ProgramData',\n",
       "  'C:\\\\ProgramData'],\n",
       " 'APPDATA': ['C:\\\\Users\\\\suneelnair1\\\\AppData\\\\Roaming',\n",
       "  'C:\\\\Users\\\\suneelnair1\\\\AppData\\\\Roaming',\n",
       "  'C:\\\\Users\\\\suneelnair1\\\\AppData\\\\Roaming',\n",
       "  'C:\\\\Users\\\\suneelnair1\\\\AppData\\\\Roaming'],\n",
       " 'CLICOLOR': ['1', '1', '1', '1'],\n",
       " 'COMMONPROGRAMFILES': ['C:\\\\Program Files\\\\Common Files',\n",
       "  'C:\\\\Program Files\\\\Common Files',\n",
       "  'C:\\\\Program Files\\\\Common Files',\n",
       "  'C:\\\\Program Files\\\\Common Files'],\n",
       " 'COMMONPROGRAMFILES(X86)': ['C:\\\\Program Files (x86)\\\\Common Files',\n",
       "  'C:\\\\Program Files (x86)\\\\Common Files',\n",
       "  'C:\\\\Program Files (x86)\\\\Common Files',\n",
       "  'C:\\\\Program Files (x86)\\\\Common Files'],\n",
       " 'COMMONPROGRAMW6432': ['C:\\\\Program Files\\\\Common Files',\n",
       "  'C:\\\\Program Files\\\\Common Files',\n",
       "  'C:\\\\Program Files\\\\Common Files',\n",
       "  'C:\\\\Program Files\\\\Common Files'],\n",
       " 'COMPUTERNAME': ['LAPTOP-23GU92LK',\n",
       "  'LAPTOP-23GU92LK',\n",
       "  'LAPTOP-23GU92LK',\n",
       "  'LAPTOP-23GU92LK'],\n",
       " 'COMSPEC': ['C:\\\\WINDOWS\\\\system32\\\\cmd.exe',\n",
       "  'C:\\\\WINDOWS\\\\system32\\\\cmd.exe',\n",
       "  'C:\\\\WINDOWS\\\\system32\\\\cmd.exe',\n",
       "  'C:\\\\WINDOWS\\\\system32\\\\cmd.exe'],\n",
       " 'CONFIGSETROOT': ['C:\\\\WINDOWS\\\\ConfigSetRoot',\n",
       "  'C:\\\\WINDOWS\\\\ConfigSetRoot',\n",
       "  'C:\\\\WINDOWS\\\\ConfigSetRoot',\n",
       "  'C:\\\\WINDOWS\\\\ConfigSetRoot'],\n",
       " 'FPS_BROWSER_APP_PROFILE_STRING': ['Internet Explorer',\n",
       "  'Internet Explorer',\n",
       "  'Internet Explorer',\n",
       "  'Internet Explorer'],\n",
       " 'FPS_BROWSER_USER_PROFILE_STRING': ['Default',\n",
       "  'Default',\n",
       "  'Default',\n",
       "  'Default'],\n",
       " 'GIT_PAGER': ['cat', 'cat', 'cat', 'cat'],\n",
       " 'HOMEDRIVE': ['C:', 'C:', 'C:', 'C:'],\n",
       " 'HOMEPATH': ['\\\\Users\\\\suneelnair1',\n",
       "  '\\\\Users\\\\suneelnair1',\n",
       "  '\\\\Users\\\\suneelnair1',\n",
       "  '\\\\Users\\\\suneelnair1'],\n",
       " 'IPY_INTERRUPT_EVENT': ['1856', '1856', '1856', '1856'],\n",
       " 'JAVA_HOME': ['C:\\\\Program Files\\\\Java\\\\jdk1.8.0_141',\n",
       "  'C:\\\\Program Files\\\\Java\\\\jdk1.8.0_141',\n",
       "  'C:\\\\Program Files\\\\Java\\\\jdk1.8.0_141',\n",
       "  'C:\\\\Program Files\\\\Java\\\\jdk1.8.0_141'],\n",
       " 'JPY_INTERRUPT_EVENT': ['1856', '1856', '1856', '1856'],\n",
       " 'JPY_PARENT_PID': ['1860', '1860', '1860', '1860'],\n",
       " 'LOCALAPPDATA': ['C:\\\\Users\\\\suneelnair1\\\\AppData\\\\Local',\n",
       "  'C:\\\\Users\\\\suneelnair1\\\\AppData\\\\Local',\n",
       "  'C:\\\\Users\\\\suneelnair1\\\\AppData\\\\Local',\n",
       "  'C:\\\\Users\\\\suneelnair1\\\\AppData\\\\Local'],\n",
       " 'LOGONSERVER': ['\\\\\\\\LAPTOP-23GU92LK',\n",
       "  '\\\\\\\\LAPTOP-23GU92LK',\n",
       "  '\\\\\\\\LAPTOP-23GU92LK',\n",
       "  '\\\\\\\\LAPTOP-23GU92LK'],\n",
       " 'MPLBACKEND': ['module://ipykernel.pylab.backend_inline',\n",
       "  'module://ipykernel.pylab.backend_inline',\n",
       "  'module://ipykernel.pylab.backend_inline',\n",
       "  'module://ipykernel.pylab.backend_inline'],\n",
       " 'NUMBER_OF_PROCESSORS': ['4', '4', '4', '4'],\n",
       " 'ONEDRIVE': ['C:\\\\Users\\\\suneelnair1\\\\OneDrive',\n",
       "  'C:\\\\Users\\\\suneelnair1\\\\OneDrive',\n",
       "  'C:\\\\Users\\\\suneelnair1\\\\OneDrive',\n",
       "  'C:\\\\Users\\\\suneelnair1\\\\OneDrive'],\n",
       " 'OS': ['Windows_NT', 'Windows_NT', 'Windows_NT', 'Windows_NT'],\n",
       " 'PAGER': ['cat', 'cat', 'cat', 'cat'],\n",
       " 'PATH': ['C:\\\\Users\\\\suneelnair1\\\\Anaconda3\\\\Library\\\\bin;C:\\\\Users\\\\suneelnair1\\\\Anaconda3\\\\Library\\\\bin;C:\\\\Users\\\\suneelnair1\\\\Anaconda3\\\\Scripts;C:\\\\Users\\\\suneelnair1\\\\Anaconda3\\\\Library\\\\bin;C:\\\\ProgramData\\\\Oracle\\\\Java\\\\javapath;C:\\\\Windows\\\\system32;C:\\\\Windows;C:\\\\Windows\\\\System32\\\\Wbem;C:\\\\Windows\\\\System32\\\\WindowsPowerShell\\\\v1.0\\\\;C:\\\\Program Files (x86)\\\\NVIDIA Corporation\\\\PhysX\\\\Common;C:\\\\Program Files\\\\Java\\\\jre1.8.0_141\\\\bin;C:\\\\Program Files\\\\Java\\\\jre1.8.0_141\\\\bin\\\\server;C:\\\\Program Files\\\\Java\\\\jdk1.8.0_141\\\\bin;C:\\\\WINDOWS\\\\system32;C:\\\\WINDOWS;C:\\\\WINDOWS\\\\System32\\\\Wbem;C:\\\\WINDOWS\\\\System32\\\\WindowsPowerShell\\\\v1.0\\\\;C:\\\\Users\\\\suneelnair1\\\\Anaconda3\\\\Scripts;C:\\\\Program Files\\\\PuTTY\\\\;C:\\\\Program Files\\\\Git\\\\cmd;C:\\\\Program Files\\\\OpenVPN\\\\bin;C:\\\\Users\\\\suneelnair1\\\\AppData\\\\Local\\\\Microsoft\\\\WindowsApps;',\n",
       "  'C:\\\\Users\\\\suneelnair1\\\\Anaconda3\\\\Library\\\\bin;C:\\\\Users\\\\suneelnair1\\\\Anaconda3\\\\Library\\\\bin;C:\\\\Users\\\\suneelnair1\\\\Anaconda3\\\\Scripts;C:\\\\Users\\\\suneelnair1\\\\Anaconda3\\\\Library\\\\bin;C:\\\\ProgramData\\\\Oracle\\\\Java\\\\javapath;C:\\\\Windows\\\\system32;C:\\\\Windows;C:\\\\Windows\\\\System32\\\\Wbem;C:\\\\Windows\\\\System32\\\\WindowsPowerShell\\\\v1.0\\\\;C:\\\\Program Files (x86)\\\\NVIDIA Corporation\\\\PhysX\\\\Common;C:\\\\Program Files\\\\Java\\\\jre1.8.0_141\\\\bin;C:\\\\Program Files\\\\Java\\\\jre1.8.0_141\\\\bin\\\\server;C:\\\\Program Files\\\\Java\\\\jdk1.8.0_141\\\\bin;C:\\\\WINDOWS\\\\system32;C:\\\\WINDOWS;C:\\\\WINDOWS\\\\System32\\\\Wbem;C:\\\\WINDOWS\\\\System32\\\\WindowsPowerShell\\\\v1.0\\\\;C:\\\\Users\\\\suneelnair1\\\\Anaconda3\\\\Scripts;C:\\\\Program Files\\\\PuTTY\\\\;C:\\\\Program Files\\\\Git\\\\cmd;C:\\\\Program Files\\\\OpenVPN\\\\bin;C:\\\\Users\\\\suneelnair1\\\\AppData\\\\Local\\\\Microsoft\\\\WindowsApps;',\n",
       "  'C:\\\\Users\\\\suneelnair1\\\\Anaconda3\\\\Library\\\\bin;C:\\\\Users\\\\suneelnair1\\\\Anaconda3\\\\Library\\\\bin;C:\\\\Users\\\\suneelnair1\\\\Anaconda3\\\\Scripts;C:\\\\Users\\\\suneelnair1\\\\Anaconda3\\\\Library\\\\bin;C:\\\\ProgramData\\\\Oracle\\\\Java\\\\javapath;C:\\\\Windows\\\\system32;C:\\\\Windows;C:\\\\Windows\\\\System32\\\\Wbem;C:\\\\Windows\\\\System32\\\\WindowsPowerShell\\\\v1.0\\\\;C:\\\\Program Files (x86)\\\\NVIDIA Corporation\\\\PhysX\\\\Common;C:\\\\Program Files\\\\Java\\\\jre1.8.0_141\\\\bin;C:\\\\Program Files\\\\Java\\\\jre1.8.0_141\\\\bin\\\\server;C:\\\\Program Files\\\\Java\\\\jdk1.8.0_141\\\\bin;C:\\\\WINDOWS\\\\system32;C:\\\\WINDOWS;C:\\\\WINDOWS\\\\System32\\\\Wbem;C:\\\\WINDOWS\\\\System32\\\\WindowsPowerShell\\\\v1.0\\\\;C:\\\\Users\\\\suneelnair1\\\\Anaconda3\\\\Scripts;C:\\\\Program Files\\\\PuTTY\\\\;C:\\\\Program Files\\\\Git\\\\cmd;C:\\\\Program Files\\\\OpenVPN\\\\bin;C:\\\\Users\\\\suneelnair1\\\\AppData\\\\Local\\\\Microsoft\\\\WindowsApps;',\n",
       "  'C:\\\\Users\\\\suneelnair1\\\\Anaconda3\\\\Library\\\\bin;C:\\\\Users\\\\suneelnair1\\\\Anaconda3\\\\Library\\\\bin;C:\\\\Users\\\\suneelnair1\\\\Anaconda3\\\\Scripts;C:\\\\Users\\\\suneelnair1\\\\Anaconda3\\\\Library\\\\bin;C:\\\\ProgramData\\\\Oracle\\\\Java\\\\javapath;C:\\\\Windows\\\\system32;C:\\\\Windows;C:\\\\Windows\\\\System32\\\\Wbem;C:\\\\Windows\\\\System32\\\\WindowsPowerShell\\\\v1.0\\\\;C:\\\\Program Files (x86)\\\\NVIDIA Corporation\\\\PhysX\\\\Common;C:\\\\Program Files\\\\Java\\\\jre1.8.0_141\\\\bin;C:\\\\Program Files\\\\Java\\\\jre1.8.0_141\\\\bin\\\\server;C:\\\\Program Files\\\\Java\\\\jdk1.8.0_141\\\\bin;C:\\\\WINDOWS\\\\system32;C:\\\\WINDOWS;C:\\\\WINDOWS\\\\System32\\\\Wbem;C:\\\\WINDOWS\\\\System32\\\\WindowsPowerShell\\\\v1.0\\\\;C:\\\\Users\\\\suneelnair1\\\\Anaconda3\\\\Scripts;C:\\\\Program Files\\\\PuTTY\\\\;C:\\\\Program Files\\\\Git\\\\cmd;C:\\\\Program Files\\\\OpenVPN\\\\bin;C:\\\\Users\\\\suneelnair1\\\\AppData\\\\Local\\\\Microsoft\\\\WindowsApps;'],\n",
       " 'PATHEXT': ['.COM;.EXE;.BAT;.CMD;.VBS;.VBE;.JS;.JSE;.WSF;.WSH;.MSC',\n",
       "  '.COM;.EXE;.BAT;.CMD;.VBS;.VBE;.JS;.JSE;.WSF;.WSH;.MSC',\n",
       "  '.COM;.EXE;.BAT;.CMD;.VBS;.VBE;.JS;.JSE;.WSF;.WSH;.MSC',\n",
       "  '.COM;.EXE;.BAT;.CMD;.VBS;.VBE;.JS;.JSE;.WSF;.WSH;.MSC'],\n",
       " 'PROCESSOR_ARCHITECTURE': ['AMD64', 'AMD64', 'AMD64', 'AMD64'],\n",
       " 'PROCESSOR_IDENTIFIER': ['Intel64 Family 6 Model 142 Stepping 9, GenuineIntel',\n",
       "  'Intel64 Family 6 Model 142 Stepping 9, GenuineIntel',\n",
       "  'Intel64 Family 6 Model 142 Stepping 9, GenuineIntel',\n",
       "  'Intel64 Family 6 Model 142 Stepping 9, GenuineIntel'],\n",
       " 'PROCESSOR_LEVEL': ['6', '6', '6', '6'],\n",
       " 'PROCESSOR_REVISION': ['8e09', '8e09', '8e09', '8e09'],\n",
       " 'PROGRAMDATA': ['C:\\\\ProgramData',\n",
       "  'C:\\\\ProgramData',\n",
       "  'C:\\\\ProgramData',\n",
       "  'C:\\\\ProgramData'],\n",
       " 'PROGRAMFILES': ['C:\\\\Program Files',\n",
       "  'C:\\\\Program Files',\n",
       "  'C:\\\\Program Files',\n",
       "  'C:\\\\Program Files'],\n",
       " 'PROGRAMFILES(X86)': ['C:\\\\Program Files (x86)',\n",
       "  'C:\\\\Program Files (x86)',\n",
       "  'C:\\\\Program Files (x86)',\n",
       "  'C:\\\\Program Files (x86)'],\n",
       " 'PROGRAMW6432': ['C:\\\\Program Files',\n",
       "  'C:\\\\Program Files',\n",
       "  'C:\\\\Program Files',\n",
       "  'C:\\\\Program Files'],\n",
       " 'PSMODULEPATH': ['C:\\\\Program Files\\\\WindowsPowerShell\\\\Modules;C:\\\\WINDOWS\\\\system32\\\\WindowsPowerShell\\\\v1.0\\\\Modules',\n",
       "  'C:\\\\Program Files\\\\WindowsPowerShell\\\\Modules;C:\\\\WINDOWS\\\\system32\\\\WindowsPowerShell\\\\v1.0\\\\Modules',\n",
       "  'C:\\\\Program Files\\\\WindowsPowerShell\\\\Modules;C:\\\\WINDOWS\\\\system32\\\\WindowsPowerShell\\\\v1.0\\\\Modules',\n",
       "  'C:\\\\Program Files\\\\WindowsPowerShell\\\\Modules;C:\\\\WINDOWS\\\\system32\\\\WindowsPowerShell\\\\v1.0\\\\Modules'],\n",
       " 'PUBLIC': ['C:\\\\Users\\\\Public',\n",
       "  'C:\\\\Users\\\\Public',\n",
       "  'C:\\\\Users\\\\Public',\n",
       "  'C:\\\\Users\\\\Public'],\n",
       " 'SESSIONNAME': ['Console', 'Console', 'Console', 'Console'],\n",
       " 'SYSTEMDRIVE': ['C:', 'C:', 'C:', 'C:'],\n",
       " 'SYSTEMROOT': ['C:\\\\WINDOWS', 'C:\\\\WINDOWS', 'C:\\\\WINDOWS', 'C:\\\\WINDOWS'],\n",
       " 'TEMP': ['C:\\\\Users\\\\SUNEEL~1\\\\AppData\\\\Local\\\\Temp',\n",
       "  'C:\\\\Users\\\\SUNEEL~1\\\\AppData\\\\Local\\\\Temp',\n",
       "  'C:\\\\Users\\\\SUNEEL~1\\\\AppData\\\\Local\\\\Temp',\n",
       "  'C:\\\\Users\\\\SUNEEL~1\\\\AppData\\\\Local\\\\Temp'],\n",
       " 'TERM': ['xterm-color', 'xterm-color', 'xterm-color', 'xterm-color'],\n",
       " 'TMP': ['C:\\\\Users\\\\SUNEEL~1\\\\AppData\\\\Local\\\\Temp',\n",
       "  'C:\\\\Users\\\\SUNEEL~1\\\\AppData\\\\Local\\\\Temp',\n",
       "  'C:\\\\Users\\\\SUNEEL~1\\\\AppData\\\\Local\\\\Temp',\n",
       "  'C:\\\\Users\\\\SUNEEL~1\\\\AppData\\\\Local\\\\Temp'],\n",
       " 'USERDOMAIN': ['LAPTOP-23GU92LK',\n",
       "  'LAPTOP-23GU92LK',\n",
       "  'LAPTOP-23GU92LK',\n",
       "  'LAPTOP-23GU92LK'],\n",
       " 'USERDOMAIN_ROAMINGPROFILE': ['LAPTOP-23GU92LK',\n",
       "  'LAPTOP-23GU92LK',\n",
       "  'LAPTOP-23GU92LK',\n",
       "  'LAPTOP-23GU92LK'],\n",
       " 'USERNAME': ['suneelnair1', 'suneelnair1', 'suneelnair1', 'suneelnair1'],\n",
       " 'USERPROFILE': ['C:\\\\Users\\\\suneelnair1',\n",
       "  'C:\\\\Users\\\\suneelnair1',\n",
       "  'C:\\\\Users\\\\suneelnair1',\n",
       "  'C:\\\\Users\\\\suneelnair1'],\n",
       " 'WINDIR': ['C:\\\\WINDOWS', 'C:\\\\WINDOWS', 'C:\\\\WINDOWS', 'C:\\\\WINDOWS']}"
      ]
     },
     "execution_count": 7,
     "metadata": {},
     "output_type": "execute_result"
    }
   ],
   "source": [
    "env_vars"
   ]
  },
  {
   "cell_type": "markdown",
   "metadata": {},
   "source": [
    "## Creating the job and using Multiprocessing"
   ]
  },
  {
   "cell_type": "code",
   "execution_count": 8,
   "metadata": {
    "collapsed": true
   },
   "outputs": [],
   "source": [
    "from multiprocessing import Process, Manager\n",
    "\n",
    "def f(d):\n",
    "    d[1] = img\n",
    "    d[2] = command_params\n",
    "    d[3] = env_vars\n",
    "    d[4] = cpu_memory_vars"
   ]
  },
  {
   "cell_type": "code",
   "execution_count": 9,
   "metadata": {},
   "outputs": [
    {
     "name": "stdout",
     "output_type": "stream",
     "text": [
      "Combining the parameters: {1: ['img1'], 2: ['cp', 'mv', 'rm'], 3: {'ALLUSERSPROFILE': ['C:\\\\ProgramData', 'C:\\\\ProgramData', 'C:\\\\ProgramData', 'C:\\\\ProgramData'], 'APPDATA': ['C:\\\\Users\\\\suneelnair1\\\\AppData\\\\Roaming', 'C:\\\\Users\\\\suneelnair1\\\\AppData\\\\Roaming', 'C:\\\\Users\\\\suneelnair1\\\\AppData\\\\Roaming', 'C:\\\\Users\\\\suneelnair1\\\\AppData\\\\Roaming'], 'COMMONPROGRAMFILES': ['C:\\\\Program Files\\\\Common Files', 'C:\\\\Program Files\\\\Common Files', 'C:\\\\Program Files\\\\Common Files', 'C:\\\\Program Files\\\\Common Files'], 'COMMONPROGRAMFILES(X86)': ['C:\\\\Program Files (x86)\\\\Common Files', 'C:\\\\Program Files (x86)\\\\Common Files', 'C:\\\\Program Files (x86)\\\\Common Files', 'C:\\\\Program Files (x86)\\\\Common Files'], 'COMMONPROGRAMW6432': ['C:\\\\Program Files\\\\Common Files', 'C:\\\\Program Files\\\\Common Files', 'C:\\\\Program Files\\\\Common Files', 'C:\\\\Program Files\\\\Common Files'], 'COMPUTERNAME': ['LAPTOP-23GU92LK', 'LAPTOP-23GU92LK', 'LAPTOP-23GU92LK', 'LAPTOP-23GU92LK'], 'COMSPEC': ['C:\\\\WINDOWS\\\\system32\\\\cmd.exe', 'C:\\\\WINDOWS\\\\system32\\\\cmd.exe', 'C:\\\\WINDOWS\\\\system32\\\\cmd.exe', 'C:\\\\WINDOWS\\\\system32\\\\cmd.exe'], 'CONFIGSETROOT': ['C:\\\\WINDOWS\\\\ConfigSetRoot', 'C:\\\\WINDOWS\\\\ConfigSetRoot', 'C:\\\\WINDOWS\\\\ConfigSetRoot', 'C:\\\\WINDOWS\\\\ConfigSetRoot'], 'FPS_BROWSER_APP_PROFILE_STRING': ['Internet Explorer', 'Internet Explorer', 'Internet Explorer', 'Internet Explorer'], 'FPS_BROWSER_USER_PROFILE_STRING': ['Default', 'Default', 'Default', 'Default'], 'HOMEDRIVE': ['C:', 'C:', 'C:', 'C:'], 'HOMEPATH': ['\\\\Users\\\\suneelnair1', '\\\\Users\\\\suneelnair1', '\\\\Users\\\\suneelnair1', '\\\\Users\\\\suneelnair1'], 'JAVA_HOME': ['C:\\\\Program Files\\\\Java\\\\jdk1.8.0_141', 'C:\\\\Program Files\\\\Java\\\\jdk1.8.0_141', 'C:\\\\Program Files\\\\Java\\\\jdk1.8.0_141', 'C:\\\\Program Files\\\\Java\\\\jdk1.8.0_141'], 'LOCALAPPDATA': ['C:\\\\Users\\\\suneelnair1\\\\AppData\\\\Local', 'C:\\\\Users\\\\suneelnair1\\\\AppData\\\\Local', 'C:\\\\Users\\\\suneelnair1\\\\AppData\\\\Local', 'C:\\\\Users\\\\suneelnair1\\\\AppData\\\\Local'], 'LOGONSERVER': ['\\\\\\\\LAPTOP-23GU92LK', '\\\\\\\\LAPTOP-23GU92LK', '\\\\\\\\LAPTOP-23GU92LK', '\\\\\\\\LAPTOP-23GU92LK'], 'NUMBER_OF_PROCESSORS': ['4', '4', '4', '4'], 'ONEDRIVE': ['C:\\\\Users\\\\suneelnair1\\\\OneDrive', 'C:\\\\Users\\\\suneelnair1\\\\OneDrive', 'C:\\\\Users\\\\suneelnair1\\\\OneDrive', 'C:\\\\Users\\\\suneelnair1\\\\OneDrive'], 'OS': ['Windows_NT', 'Windows_NT', 'Windows_NT', 'Windows_NT'], 'PATH': ['C:\\\\Users\\\\suneelnair1\\\\Anaconda3\\\\Library\\\\bin;C:\\\\Users\\\\suneelnair1\\\\Anaconda3\\\\Library\\\\bin;C:\\\\Users\\\\suneelnair1\\\\Anaconda3\\\\Scripts;C:\\\\Users\\\\suneelnair1\\\\Anaconda3\\\\Library\\\\bin;C:\\\\ProgramData\\\\Oracle\\\\Java\\\\javapath;C:\\\\Windows\\\\system32;C:\\\\Windows;C:\\\\Windows\\\\System32\\\\Wbem;C:\\\\Windows\\\\System32\\\\WindowsPowerShell\\\\v1.0\\\\;C:\\\\Program Files (x86)\\\\NVIDIA Corporation\\\\PhysX\\\\Common;C:\\\\Program Files\\\\Java\\\\jre1.8.0_141\\\\bin;C:\\\\Program Files\\\\Java\\\\jre1.8.0_141\\\\bin\\\\server;C:\\\\Program Files\\\\Java\\\\jdk1.8.0_141\\\\bin;C:\\\\WINDOWS\\\\system32;C:\\\\WINDOWS;C:\\\\WINDOWS\\\\System32\\\\Wbem;C:\\\\WINDOWS\\\\System32\\\\WindowsPowerShell\\\\v1.0\\\\;C:\\\\Users\\\\suneelnair1\\\\Anaconda3\\\\Scripts;C:\\\\Program Files\\\\PuTTY\\\\;C:\\\\Program Files\\\\Git\\\\cmd;C:\\\\Program Files\\\\OpenVPN\\\\bin;C:\\\\Users\\\\suneelnair1\\\\AppData\\\\Local\\\\Microsoft\\\\WindowsApps;', 'C:\\\\Users\\\\suneelnair1\\\\Anaconda3\\\\Library\\\\bin;C:\\\\Users\\\\suneelnair1\\\\Anaconda3\\\\Library\\\\bin;C:\\\\Users\\\\suneelnair1\\\\Anaconda3\\\\Scripts;C:\\\\Users\\\\suneelnair1\\\\Anaconda3\\\\Library\\\\bin;C:\\\\ProgramData\\\\Oracle\\\\Java\\\\javapath;C:\\\\Windows\\\\system32;C:\\\\Windows;C:\\\\Windows\\\\System32\\\\Wbem;C:\\\\Windows\\\\System32\\\\WindowsPowerShell\\\\v1.0\\\\;C:\\\\Program Files (x86)\\\\NVIDIA Corporation\\\\PhysX\\\\Common;C:\\\\Program Files\\\\Java\\\\jre1.8.0_141\\\\bin;C:\\\\Program Files\\\\Java\\\\jre1.8.0_141\\\\bin\\\\server;C:\\\\Program Files\\\\Java\\\\jdk1.8.0_141\\\\bin;C:\\\\WINDOWS\\\\system32;C:\\\\WINDOWS;C:\\\\WINDOWS\\\\System32\\\\Wbem;C:\\\\WINDOWS\\\\System32\\\\WindowsPowerShell\\\\v1.0\\\\;C:\\\\Users\\\\suneelnair1\\\\Anaconda3\\\\Scripts;C:\\\\Program Files\\\\PuTTY\\\\;C:\\\\Program Files\\\\Git\\\\cmd;C:\\\\Program Files\\\\OpenVPN\\\\bin;C:\\\\Users\\\\suneelnair1\\\\AppData\\\\Local\\\\Microsoft\\\\WindowsApps;', 'C:\\\\Users\\\\suneelnair1\\\\Anaconda3\\\\Library\\\\bin;C:\\\\Users\\\\suneelnair1\\\\Anaconda3\\\\Library\\\\bin;C:\\\\Users\\\\suneelnair1\\\\Anaconda3\\\\Scripts;C:\\\\Users\\\\suneelnair1\\\\Anaconda3\\\\Library\\\\bin;C:\\\\ProgramData\\\\Oracle\\\\Java\\\\javapath;C:\\\\Windows\\\\system32;C:\\\\Windows;C:\\\\Windows\\\\System32\\\\Wbem;C:\\\\Windows\\\\System32\\\\WindowsPowerShell\\\\v1.0\\\\;C:\\\\Program Files (x86)\\\\NVIDIA Corporation\\\\PhysX\\\\Common;C:\\\\Program Files\\\\Java\\\\jre1.8.0_141\\\\bin;C:\\\\Program Files\\\\Java\\\\jre1.8.0_141\\\\bin\\\\server;C:\\\\Program Files\\\\Java\\\\jdk1.8.0_141\\\\bin;C:\\\\WINDOWS\\\\system32;C:\\\\WINDOWS;C:\\\\WINDOWS\\\\System32\\\\Wbem;C:\\\\WINDOWS\\\\System32\\\\WindowsPowerShell\\\\v1.0\\\\;C:\\\\Users\\\\suneelnair1\\\\Anaconda3\\\\Scripts;C:\\\\Program Files\\\\PuTTY\\\\;C:\\\\Program Files\\\\Git\\\\cmd;C:\\\\Program Files\\\\OpenVPN\\\\bin;C:\\\\Users\\\\suneelnair1\\\\AppData\\\\Local\\\\Microsoft\\\\WindowsApps;', 'C:\\\\Users\\\\suneelnair1\\\\Anaconda3\\\\Library\\\\bin;C:\\\\Users\\\\suneelnair1\\\\Anaconda3\\\\Library\\\\bin;C:\\\\Users\\\\suneelnair1\\\\Anaconda3\\\\Scripts;C:\\\\Users\\\\suneelnair1\\\\Anaconda3\\\\Library\\\\bin;C:\\\\ProgramData\\\\Oracle\\\\Java\\\\javapath;C:\\\\Windows\\\\system32;C:\\\\Windows;C:\\\\Windows\\\\System32\\\\Wbem;C:\\\\Windows\\\\System32\\\\WindowsPowerShell\\\\v1.0\\\\;C:\\\\Program Files (x86)\\\\NVIDIA Corporation\\\\PhysX\\\\Common;C:\\\\Program Files\\\\Java\\\\jre1.8.0_141\\\\bin;C:\\\\Program Files\\\\Java\\\\jre1.8.0_141\\\\bin\\\\server;C:\\\\Program Files\\\\Java\\\\jdk1.8.0_141\\\\bin;C:\\\\WINDOWS\\\\system32;C:\\\\WINDOWS;C:\\\\WINDOWS\\\\System32\\\\Wbem;C:\\\\WINDOWS\\\\System32\\\\WindowsPowerShell\\\\v1.0\\\\;C:\\\\Users\\\\suneelnair1\\\\Anaconda3\\\\Scripts;C:\\\\Program Files\\\\PuTTY\\\\;C:\\\\Program Files\\\\Git\\\\cmd;C:\\\\Program Files\\\\OpenVPN\\\\bin;C:\\\\Users\\\\suneelnair1\\\\AppData\\\\Local\\\\Microsoft\\\\WindowsApps;'], 'PATHEXT': ['.COM;.EXE;.BAT;.CMD;.VBS;.VBE;.JS;.JSE;.WSF;.WSH;.MSC', '.COM;.EXE;.BAT;.CMD;.VBS;.VBE;.JS;.JSE;.WSF;.WSH;.MSC', '.COM;.EXE;.BAT;.CMD;.VBS;.VBE;.JS;.JSE;.WSF;.WSH;.MSC', '.COM;.EXE;.BAT;.CMD;.VBS;.VBE;.JS;.JSE;.WSF;.WSH;.MSC'], 'PROCESSOR_ARCHITECTURE': ['AMD64', 'AMD64', 'AMD64', 'AMD64'], 'PROCESSOR_IDENTIFIER': ['Intel64 Family 6 Model 142 Stepping 9, GenuineIntel', 'Intel64 Family 6 Model 142 Stepping 9, GenuineIntel', 'Intel64 Family 6 Model 142 Stepping 9, GenuineIntel', 'Intel64 Family 6 Model 142 Stepping 9, GenuineIntel'], 'PROCESSOR_LEVEL': ['6', '6', '6', '6'], 'PROCESSOR_REVISION': ['8e09', '8e09', '8e09', '8e09'], 'PROGRAMDATA': ['C:\\\\ProgramData', 'C:\\\\ProgramData', 'C:\\\\ProgramData', 'C:\\\\ProgramData'], 'PROGRAMFILES': ['C:\\\\Program Files', 'C:\\\\Program Files', 'C:\\\\Program Files', 'C:\\\\Program Files'], 'PROGRAMFILES(X86)': ['C:\\\\Program Files (x86)', 'C:\\\\Program Files (x86)', 'C:\\\\Program Files (x86)', 'C:\\\\Program Files (x86)'], 'PROGRAMW6432': ['C:\\\\Program Files', 'C:\\\\Program Files', 'C:\\\\Program Files', 'C:\\\\Program Files'], 'PSMODULEPATH': ['C:\\\\Program Files\\\\WindowsPowerShell\\\\Modules;C:\\\\WINDOWS\\\\system32\\\\WindowsPowerShell\\\\v1.0\\\\Modules', 'C:\\\\Program Files\\\\WindowsPowerShell\\\\Modules;C:\\\\WINDOWS\\\\system32\\\\WindowsPowerShell\\\\v1.0\\\\Modules', 'C:\\\\Program Files\\\\WindowsPowerShell\\\\Modules;C:\\\\WINDOWS\\\\system32\\\\WindowsPowerShell\\\\v1.0\\\\Modules', 'C:\\\\Program Files\\\\WindowsPowerShell\\\\Modules;C:\\\\WINDOWS\\\\system32\\\\WindowsPowerShell\\\\v1.0\\\\Modules'], 'PUBLIC': ['C:\\\\Users\\\\Public', 'C:\\\\Users\\\\Public', 'C:\\\\Users\\\\Public', 'C:\\\\Users\\\\Public'], 'SESSIONNAME': ['Console', 'Console', 'Console', 'Console'], 'SYSTEMDRIVE': ['C:', 'C:', 'C:', 'C:'], 'SYSTEMROOT': ['C:\\\\WINDOWS', 'C:\\\\WINDOWS', 'C:\\\\WINDOWS', 'C:\\\\WINDOWS'], 'TEMP': ['C:\\\\Users\\\\SUNEEL~1\\\\AppData\\\\Local\\\\Temp', 'C:\\\\Users\\\\SUNEEL~1\\\\AppData\\\\Local\\\\Temp', 'C:\\\\Users\\\\SUNEEL~1\\\\AppData\\\\Local\\\\Temp', 'C:\\\\Users\\\\SUNEEL~1\\\\AppData\\\\Local\\\\Temp'], 'TMP': ['C:\\\\Users\\\\SUNEEL~1\\\\AppData\\\\Local\\\\Temp', 'C:\\\\Users\\\\SUNEEL~1\\\\AppData\\\\Local\\\\Temp', 'C:\\\\Users\\\\SUNEEL~1\\\\AppData\\\\Local\\\\Temp', 'C:\\\\Users\\\\SUNEEL~1\\\\AppData\\\\Local\\\\Temp'], 'USERDOMAIN': ['LAPTOP-23GU92LK', 'LAPTOP-23GU92LK', 'LAPTOP-23GU92LK', 'LAPTOP-23GU92LK'], 'USERDOMAIN_ROAMINGPROFILE': ['LAPTOP-23GU92LK', 'LAPTOP-23GU92LK', 'LAPTOP-23GU92LK', 'LAPTOP-23GU92LK'], 'USERNAME': ['suneelnair1', 'suneelnair1', 'suneelnair1', 'suneelnair1'], 'USERPROFILE': ['C:\\\\Users\\\\suneelnair1', 'C:\\\\Users\\\\suneelnair1', 'C:\\\\Users\\\\suneelnair1', 'C:\\\\Users\\\\suneelnair1'], 'WINDIR': ['C:\\\\WINDOWS', 'C:\\\\WINDOWS', 'C:\\\\WINDOWS', 'C:\\\\WINDOWS'], 'JPY_INTERRUPT_EVENT': ['1856', '1856', '1856', '1856'], 'IPY_INTERRUPT_EVENT': ['1856', '1856', '1856', '1856'], 'JPY_PARENT_PID': ['1860', '1860', '1860', '1860'], 'TERM': ['xterm-color', 'xterm-color', 'xterm-color', 'xterm-color'], 'CLICOLOR': ['1', '1', '1', '1'], 'PAGER': ['cat', 'cat', 'cat', 'cat'], 'GIT_PAGER': ['cat', 'cat', 'cat', 'cat'], 'MPLBACKEND': ['module://ipykernel.pylab.backend_inline', 'module://ipykernel.pylab.backend_inline', 'module://ipykernel.pylab.backend_inline', 'module://ipykernel.pylab.backend_inline']}, 4: {'CPU': [['x86-32', 'x86-64']], 'Memory': [['1 GB', '1 GB']], 'Hard Disk': [['200 MB', '250 MB']]}}\n"
     ]
    }
   ],
   "source": [
    "if __name__ == '__main__':\n",
    "    client = Manager()\n",
    "\n",
    "    d = client.dict()\n",
    "    d[1] = img\n",
    "    d[2] = command_params\n",
    "    d[3] = env_vars\n",
    "    d[4] = cpu_memory_vars\n",
    "\n",
    "    p1 = Process(target=f, args=(d,))\n",
    "    p2 = Process(target=f, args=(d,))\n",
    "    p1.start()\n",
    "    p2.start()\n",
    "    p1.join()\n",
    "    p2.join()\n",
    "\n",
    "    print('Combining the parameters:', d)"
   ]
  },
  {
   "cell_type": "markdown",
   "metadata": {},
   "source": [
    "## Parallel processing of jobs"
   ]
  },
  {
   "cell_type": "code",
   "execution_count": 10,
   "metadata": {
    "collapsed": true
   },
   "outputs": [],
   "source": [
    "def func1():\n",
    "    print('func1: starting')\n",
    "    for i in range(len(env_vars)): pass\n",
    "    print(env_vars)"
   ]
  },
  {
   "cell_type": "code",
   "execution_count": 11,
   "metadata": {
    "collapsed": true
   },
   "outputs": [],
   "source": [
    "def func2():\n",
    "    print('func2: starting')\n",
    "    for i in range(cpu_memory_vars): pass\n",
    "    print(cpu_memory_vars)"
   ]
  },
  {
   "cell_type": "code",
   "execution_count": 12,
   "metadata": {
    "collapsed": true
   },
   "outputs": [],
   "source": [
    "def runInParallel(*fns):\n",
    "    proc = []\n",
    "    for fn in fns:\n",
    "        p = Process(target=fn)\n",
    "        p.start()\n",
    "        proc.append(p)\n",
    "    for p in proc:\n",
    "        p.join()        "
   ]
  },
  {
   "cell_type": "code",
   "execution_count": 12,
   "metadata": {
    "collapsed": true
   },
   "outputs": [],
   "source": [
    "runInParallel(func1, func2)"
   ]
  },
  {
   "cell_type": "code",
   "execution_count": 13,
   "metadata": {
    "collapsed": true
   },
   "outputs": [],
   "source": [
    "def func3(img,command_params,env_vars,cpu_memory_vars):\n",
    "    transaction_count = len(env_vars)*len(command_params)\n",
    "    return transaction_count"
   ]
  },
  {
   "cell_type": "code",
   "execution_count": 14,
   "metadata": {},
   "outputs": [
    {
     "name": "stdout",
     "output_type": "stream",
     "text": [
      "144\n"
     ]
    }
   ],
   "source": [
    "result = func3(img,command_params,env_vars,cpu_memory_vars)\n",
    "print(result)"
   ]
  },
  {
   "cell_type": "markdown",
   "metadata": {},
   "source": [
    "## Setup the Worker"
   ]
  },
  {
   "cell_type": "code",
   "execution_count": 17,
   "metadata": {},
   "outputs": [
    {
     "name": "stderr",
     "output_type": "stream",
     "text": [
      "12:11:39 RQ worker 'rq:worker:LAPTOP-23GU92LK.11656' started, version 0.10.0\n",
      "12:11:39 *** Listening on default...\n",
      "12:11:39 Cleaning registries for queue: default\n",
      "12:41:44 Warm shut down requested\n"
     ]
    }
   ],
   "source": [
    "import os\n",
    "from redis import Redis\n",
    "from rq import Worker, Queue, Connection\n",
    "\n",
    "listen = ['default']\n",
    "\n",
    "redis_conn = Redis()\n",
    "\n",
    "\n",
    "if __name__ == '__main__':\n",
    "    with Connection(redis_conn):\n",
    "        worker = Worker(list(map(Queue,listen)))\n",
    "        worker.work()\n"
   ]
  },
  {
   "cell_type": "code",
   "execution_count": 18,
   "metadata": {
    "collapsed": true
   },
   "outputs": [],
   "source": [
    "from rq import Queue\n",
    "from rq.job import Job\n",
    "from redis import Redis\n",
    "from rq import Worker\n",
    "\n",
    "\n",
    "conn = Redis()\n",
    "\n",
    "q = Queue(connection=conn)\n",
    "\n",
    "def func3(img,command_params,env_vars,cpu_memory_vars):\n",
    "    transaction_count = len(env_vars)*len(command_params)\n",
    "    return transaction_count\n",
    "\n"
   ]
  },
  {
   "cell_type": "markdown",
   "metadata": {},
   "source": [
    "## Create the job"
   ]
  },
  {
   "cell_type": "code",
   "execution_count": 19,
   "metadata": {},
   "outputs": [
    {
     "name": "stdout",
     "output_type": "stream",
     "text": [
      "ead2ae5d-aef5-47b3-a47c-61ee829c7857\n"
     ]
    }
   ],
   "source": [
    "job = q.enqueue_call(\n",
    "            func=func3, args=(img,command_params,env_vars,cpu_memory_vars), result_ttl=5000\n",
    "        )\n",
    "\n",
    "print(job.get_id())"
   ]
  },
  {
   "cell_type": "markdown",
   "metadata": {},
   "source": [
    "## Return and save the results"
   ]
  },
  {
   "cell_type": "code",
   "execution_count": 20,
   "metadata": {
    "collapsed": true
   },
   "outputs": [],
   "source": [
    "# @app.route(\"/results/<job_key>\", methods=['GET'])\n",
    "def get_results(job_key):\n",
    " \n",
    "     job = Job.fetch(job_key, connection=conn)\n",
    " \n",
    "     if job.is_finished:\n",
    "         return str(job.result), 200\n",
    "     else:\n",
    "        return \"Job not finished\", 202"
   ]
  },
  {
   "cell_type": "code",
   "execution_count": 23,
   "metadata": {},
   "outputs": [
    {
     "data": {
      "text/plain": [
       "('Job not finished', 202)"
      ]
     },
     "execution_count": 23,
     "metadata": {},
     "output_type": "execute_result"
    }
   ],
   "source": [
    "get_results('ead2ae5d-aef5-47b3-a47c-61ee829c7857')"
   ]
  }
 ],
 "metadata": {
  "kernelspec": {
   "display_name": "Python 3",
   "language": "python",
   "name": "python3"
  },
  "language_info": {
   "codemirror_mode": {
    "name": "ipython",
    "version": 3
   },
   "file_extension": ".py",
   "mimetype": "text/x-python",
   "name": "python",
   "nbconvert_exporter": "python",
   "pygments_lexer": "ipython3",
   "version": "3.6.1"
  }
 },
 "nbformat": 4,
 "nbformat_minor": 2
}
