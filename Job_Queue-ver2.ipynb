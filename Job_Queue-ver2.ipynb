{
 "cells": [
  {
   "cell_type": "code",
   "execution_count": 2,
   "metadata": {
    "collapsed": true
   },
   "outputs": [],
   "source": [
    "import pandas as pd\n",
    "import numpy as np\n",
    "import matplotlib.pyplot as plt\n",
    "import seaborn as sns\n",
    "import os\n"
   ]
  },
  {
   "cell_type": "markdown",
   "metadata": {},
   "source": [
    "## Initializing the variables"
   ]
  },
  {
   "cell_type": "code",
   "execution_count": 3,
   "metadata": {
    "collapsed": true
   },
   "outputs": [],
   "source": [
    "img =['img1']\n",
    "command_params = ['cp','mv','rm']\n",
    "cpu_memory_vars = dict()"
   ]
  },
  {
   "cell_type": "markdown",
   "metadata": {},
   "source": [
    "## Populating the variables"
   ]
  },
  {
   "cell_type": "code",
   "execution_count": 4,
   "metadata": {},
   "outputs": [
    {
     "data": {
      "text/plain": [
       "dict_values([[['x86-32', 'x86-64']], [['1 GB', '1 GB']], [['200 MB', '250 MB']]])"
      ]
     },
     "execution_count": 4,
     "metadata": {},
     "output_type": "execute_result"
    }
   ],
   "source": [
    "list2  = ['x86-32','x86-64']\n",
    "list3 = ['1 GB','1 GB']\n",
    "list4 =  ['200 MB','250 MB']\n",
    "\n",
    "\n",
    "cpu_memory_vars = {'CPU':[],'Memory':[],'Hard Disk':[]}\n",
    "cpu_memory_vars['CPU'].append(list2)\n",
    "cpu_memory_vars['Memory'].append(list3)\n",
    "cpu_memory_vars['Hard Disk'].append(list4)\n",
    "cpu_memory_vars.values()\n"
   ]
  },
  {
   "cell_type": "code",
   "execution_count": 5,
   "metadata": {
    "collapsed": true
   },
   "outputs": [],
   "source": [
    "Var = []\n",
    "env_vars = dict()\n",
    "\n",
    "for a in os.environ:\n",
    "    val = os.getenv(a)\n",
    "    list1 = [a,val]\n",
    "    for line in list1:    \n",
    "        Var = list1[0]   \n",
    "        Value = list1[1]  \n",
    "        for line in list1:  \n",
    "            env_vars.setdefault(Var, []).append(Value)\n",
    "    "
   ]
  },
  {
   "cell_type": "code",
   "execution_count": 6,
   "metadata": {},
   "outputs": [
    {
     "data": {
      "text/plain": [
       "{'ALLUSERSPROFILE': ['C:\\\\ProgramData',\n",
       "  'C:\\\\ProgramData',\n",
       "  'C:\\\\ProgramData',\n",
       "  'C:\\\\ProgramData'],\n",
       " 'APPDATA': ['C:\\\\Users\\\\suneelnair1\\\\AppData\\\\Roaming',\n",
       "  'C:\\\\Users\\\\suneelnair1\\\\AppData\\\\Roaming',\n",
       "  'C:\\\\Users\\\\suneelnair1\\\\AppData\\\\Roaming',\n",
       "  'C:\\\\Users\\\\suneelnair1\\\\AppData\\\\Roaming'],\n",
       " 'CLICOLOR': ['1', '1', '1', '1'],\n",
       " 'COMMONPROGRAMFILES': ['C:\\\\Program Files\\\\Common Files',\n",
       "  'C:\\\\Program Files\\\\Common Files',\n",
       "  'C:\\\\Program Files\\\\Common Files',\n",
       "  'C:\\\\Program Files\\\\Common Files'],\n",
       " 'COMMONPROGRAMFILES(X86)': ['C:\\\\Program Files (x86)\\\\Common Files',\n",
       "  'C:\\\\Program Files (x86)\\\\Common Files',\n",
       "  'C:\\\\Program Files (x86)\\\\Common Files',\n",
       "  'C:\\\\Program Files (x86)\\\\Common Files'],\n",
       " 'COMMONPROGRAMW6432': ['C:\\\\Program Files\\\\Common Files',\n",
       "  'C:\\\\Program Files\\\\Common Files',\n",
       "  'C:\\\\Program Files\\\\Common Files',\n",
       "  'C:\\\\Program Files\\\\Common Files'],\n",
       " 'COMPUTERNAME': ['LAPTOP-23GU92LK',\n",
       "  'LAPTOP-23GU92LK',\n",
       "  'LAPTOP-23GU92LK',\n",
       "  'LAPTOP-23GU92LK'],\n",
       " 'COMSPEC': ['C:\\\\WINDOWS\\\\system32\\\\cmd.exe',\n",
       "  'C:\\\\WINDOWS\\\\system32\\\\cmd.exe',\n",
       "  'C:\\\\WINDOWS\\\\system32\\\\cmd.exe',\n",
       "  'C:\\\\WINDOWS\\\\system32\\\\cmd.exe'],\n",
       " 'CONFIGSETROOT': ['C:\\\\WINDOWS\\\\ConfigSetRoot',\n",
       "  'C:\\\\WINDOWS\\\\ConfigSetRoot',\n",
       "  'C:\\\\WINDOWS\\\\ConfigSetRoot',\n",
       "  'C:\\\\WINDOWS\\\\ConfigSetRoot'],\n",
       " 'GIT_PAGER': ['cat', 'cat', 'cat', 'cat'],\n",
       " 'HOMEDRIVE': ['C:', 'C:', 'C:', 'C:'],\n",
       " 'HOMEPATH': ['\\\\Users\\\\suneelnair1',\n",
       "  '\\\\Users\\\\suneelnair1',\n",
       "  '\\\\Users\\\\suneelnair1',\n",
       "  '\\\\Users\\\\suneelnair1'],\n",
       " 'IPY_INTERRUPT_EVENT': ['1760', '1760', '1760', '1760'],\n",
       " 'JAVA_HOME': ['C:\\\\Program Files\\\\Java\\\\jdk1.8.0_141',\n",
       "  'C:\\\\Program Files\\\\Java\\\\jdk1.8.0_141',\n",
       "  'C:\\\\Program Files\\\\Java\\\\jdk1.8.0_141',\n",
       "  'C:\\\\Program Files\\\\Java\\\\jdk1.8.0_141'],\n",
       " 'JPY_INTERRUPT_EVENT': ['1760', '1760', '1760', '1760'],\n",
       " 'JPY_PARENT_PID': ['1740', '1740', '1740', '1740'],\n",
       " 'LOCALAPPDATA': ['C:\\\\Users\\\\suneelnair1\\\\AppData\\\\Local',\n",
       "  'C:\\\\Users\\\\suneelnair1\\\\AppData\\\\Local',\n",
       "  'C:\\\\Users\\\\suneelnair1\\\\AppData\\\\Local',\n",
       "  'C:\\\\Users\\\\suneelnair1\\\\AppData\\\\Local'],\n",
       " 'LOGONSERVER': ['\\\\\\\\LAPTOP-23GU92LK',\n",
       "  '\\\\\\\\LAPTOP-23GU92LK',\n",
       "  '\\\\\\\\LAPTOP-23GU92LK',\n",
       "  '\\\\\\\\LAPTOP-23GU92LK'],\n",
       " 'MPLBACKEND': ['module://ipykernel.pylab.backend_inline',\n",
       "  'module://ipykernel.pylab.backend_inline',\n",
       "  'module://ipykernel.pylab.backend_inline',\n",
       "  'module://ipykernel.pylab.backend_inline'],\n",
       " 'NUMBER_OF_PROCESSORS': ['4', '4', '4', '4'],\n",
       " 'ONEDRIVE': ['C:\\\\Users\\\\suneelnair1\\\\OneDrive',\n",
       "  'C:\\\\Users\\\\suneelnair1\\\\OneDrive',\n",
       "  'C:\\\\Users\\\\suneelnair1\\\\OneDrive',\n",
       "  'C:\\\\Users\\\\suneelnair1\\\\OneDrive'],\n",
       " 'OS': ['Windows_NT', 'Windows_NT', 'Windows_NT', 'Windows_NT'],\n",
       " 'PAGER': ['cat', 'cat', 'cat', 'cat'],\n",
       " 'PATH': ['C:\\\\Users\\\\suneelnair1\\\\Anaconda3\\\\Library\\\\bin;C:\\\\Users\\\\suneelnair1\\\\Anaconda3\\\\Library\\\\bin;C:\\\\Users\\\\suneelnair1\\\\Anaconda3\\\\Scripts;C:\\\\Users\\\\suneelnair1\\\\Anaconda3\\\\Library\\\\bin;C:\\\\ProgramData\\\\Oracle\\\\Java\\\\javapath;C:\\\\Windows\\\\system32;C:\\\\Windows;C:\\\\Windows\\\\System32\\\\Wbem;C:\\\\Windows\\\\System32\\\\WindowsPowerShell\\\\v1.0\\\\;C:\\\\Program Files (x86)\\\\NVIDIA Corporation\\\\PhysX\\\\Common;C:\\\\Program Files\\\\Java\\\\jre1.8.0_141\\\\bin;C:\\\\Program Files\\\\Java\\\\jre1.8.0_141\\\\bin\\\\server;C:\\\\Program Files\\\\Java\\\\jdk1.8.0_141\\\\bin;C:\\\\WINDOWS\\\\system32;C:\\\\WINDOWS;C:\\\\WINDOWS\\\\System32\\\\Wbem;C:\\\\WINDOWS\\\\System32\\\\WindowsPowerShell\\\\v1.0\\\\;C:\\\\Users\\\\suneelnair1\\\\Anaconda3\\\\Scripts;C:\\\\Program Files\\\\PuTTY\\\\;C:\\\\Program Files\\\\Git\\\\cmd;C:\\\\Program Files\\\\OpenVPN\\\\bin;C:\\\\Users\\\\suneelnair1\\\\AppData\\\\Local\\\\Microsoft\\\\WindowsApps;',\n",
       "  'C:\\\\Users\\\\suneelnair1\\\\Anaconda3\\\\Library\\\\bin;C:\\\\Users\\\\suneelnair1\\\\Anaconda3\\\\Library\\\\bin;C:\\\\Users\\\\suneelnair1\\\\Anaconda3\\\\Scripts;C:\\\\Users\\\\suneelnair1\\\\Anaconda3\\\\Library\\\\bin;C:\\\\ProgramData\\\\Oracle\\\\Java\\\\javapath;C:\\\\Windows\\\\system32;C:\\\\Windows;C:\\\\Windows\\\\System32\\\\Wbem;C:\\\\Windows\\\\System32\\\\WindowsPowerShell\\\\v1.0\\\\;C:\\\\Program Files (x86)\\\\NVIDIA Corporation\\\\PhysX\\\\Common;C:\\\\Program Files\\\\Java\\\\jre1.8.0_141\\\\bin;C:\\\\Program Files\\\\Java\\\\jre1.8.0_141\\\\bin\\\\server;C:\\\\Program Files\\\\Java\\\\jdk1.8.0_141\\\\bin;C:\\\\WINDOWS\\\\system32;C:\\\\WINDOWS;C:\\\\WINDOWS\\\\System32\\\\Wbem;C:\\\\WINDOWS\\\\System32\\\\WindowsPowerShell\\\\v1.0\\\\;C:\\\\Users\\\\suneelnair1\\\\Anaconda3\\\\Scripts;C:\\\\Program Files\\\\PuTTY\\\\;C:\\\\Program Files\\\\Git\\\\cmd;C:\\\\Program Files\\\\OpenVPN\\\\bin;C:\\\\Users\\\\suneelnair1\\\\AppData\\\\Local\\\\Microsoft\\\\WindowsApps;',\n",
       "  'C:\\\\Users\\\\suneelnair1\\\\Anaconda3\\\\Library\\\\bin;C:\\\\Users\\\\suneelnair1\\\\Anaconda3\\\\Library\\\\bin;C:\\\\Users\\\\suneelnair1\\\\Anaconda3\\\\Scripts;C:\\\\Users\\\\suneelnair1\\\\Anaconda3\\\\Library\\\\bin;C:\\\\ProgramData\\\\Oracle\\\\Java\\\\javapath;C:\\\\Windows\\\\system32;C:\\\\Windows;C:\\\\Windows\\\\System32\\\\Wbem;C:\\\\Windows\\\\System32\\\\WindowsPowerShell\\\\v1.0\\\\;C:\\\\Program Files (x86)\\\\NVIDIA Corporation\\\\PhysX\\\\Common;C:\\\\Program Files\\\\Java\\\\jre1.8.0_141\\\\bin;C:\\\\Program Files\\\\Java\\\\jre1.8.0_141\\\\bin\\\\server;C:\\\\Program Files\\\\Java\\\\jdk1.8.0_141\\\\bin;C:\\\\WINDOWS\\\\system32;C:\\\\WINDOWS;C:\\\\WINDOWS\\\\System32\\\\Wbem;C:\\\\WINDOWS\\\\System32\\\\WindowsPowerShell\\\\v1.0\\\\;C:\\\\Users\\\\suneelnair1\\\\Anaconda3\\\\Scripts;C:\\\\Program Files\\\\PuTTY\\\\;C:\\\\Program Files\\\\Git\\\\cmd;C:\\\\Program Files\\\\OpenVPN\\\\bin;C:\\\\Users\\\\suneelnair1\\\\AppData\\\\Local\\\\Microsoft\\\\WindowsApps;',\n",
       "  'C:\\\\Users\\\\suneelnair1\\\\Anaconda3\\\\Library\\\\bin;C:\\\\Users\\\\suneelnair1\\\\Anaconda3\\\\Library\\\\bin;C:\\\\Users\\\\suneelnair1\\\\Anaconda3\\\\Scripts;C:\\\\Users\\\\suneelnair1\\\\Anaconda3\\\\Library\\\\bin;C:\\\\ProgramData\\\\Oracle\\\\Java\\\\javapath;C:\\\\Windows\\\\system32;C:\\\\Windows;C:\\\\Windows\\\\System32\\\\Wbem;C:\\\\Windows\\\\System32\\\\WindowsPowerShell\\\\v1.0\\\\;C:\\\\Program Files (x86)\\\\NVIDIA Corporation\\\\PhysX\\\\Common;C:\\\\Program Files\\\\Java\\\\jre1.8.0_141\\\\bin;C:\\\\Program Files\\\\Java\\\\jre1.8.0_141\\\\bin\\\\server;C:\\\\Program Files\\\\Java\\\\jdk1.8.0_141\\\\bin;C:\\\\WINDOWS\\\\system32;C:\\\\WINDOWS;C:\\\\WINDOWS\\\\System32\\\\Wbem;C:\\\\WINDOWS\\\\System32\\\\WindowsPowerShell\\\\v1.0\\\\;C:\\\\Users\\\\suneelnair1\\\\Anaconda3\\\\Scripts;C:\\\\Program Files\\\\PuTTY\\\\;C:\\\\Program Files\\\\Git\\\\cmd;C:\\\\Program Files\\\\OpenVPN\\\\bin;C:\\\\Users\\\\suneelnair1\\\\AppData\\\\Local\\\\Microsoft\\\\WindowsApps;'],\n",
       " 'PATHEXT': ['.COM;.EXE;.BAT;.CMD;.VBS;.VBE;.JS;.JSE;.WSF;.WSH;.MSC',\n",
       "  '.COM;.EXE;.BAT;.CMD;.VBS;.VBE;.JS;.JSE;.WSF;.WSH;.MSC',\n",
       "  '.COM;.EXE;.BAT;.CMD;.VBS;.VBE;.JS;.JSE;.WSF;.WSH;.MSC',\n",
       "  '.COM;.EXE;.BAT;.CMD;.VBS;.VBE;.JS;.JSE;.WSF;.WSH;.MSC'],\n",
       " 'PROCESSOR_ARCHITECTURE': ['AMD64', 'AMD64', 'AMD64', 'AMD64'],\n",
       " 'PROCESSOR_IDENTIFIER': ['Intel64 Family 6 Model 142 Stepping 9, GenuineIntel',\n",
       "  'Intel64 Family 6 Model 142 Stepping 9, GenuineIntel',\n",
       "  'Intel64 Family 6 Model 142 Stepping 9, GenuineIntel',\n",
       "  'Intel64 Family 6 Model 142 Stepping 9, GenuineIntel'],\n",
       " 'PROCESSOR_LEVEL': ['6', '6', '6', '6'],\n",
       " 'PROCESSOR_REVISION': ['8e09', '8e09', '8e09', '8e09'],\n",
       " 'PROGRAMDATA': ['C:\\\\ProgramData',\n",
       "  'C:\\\\ProgramData',\n",
       "  'C:\\\\ProgramData',\n",
       "  'C:\\\\ProgramData'],\n",
       " 'PROGRAMFILES': ['C:\\\\Program Files',\n",
       "  'C:\\\\Program Files',\n",
       "  'C:\\\\Program Files',\n",
       "  'C:\\\\Program Files'],\n",
       " 'PROGRAMFILES(X86)': ['C:\\\\Program Files (x86)',\n",
       "  'C:\\\\Program Files (x86)',\n",
       "  'C:\\\\Program Files (x86)',\n",
       "  'C:\\\\Program Files (x86)'],\n",
       " 'PROGRAMW6432': ['C:\\\\Program Files',\n",
       "  'C:\\\\Program Files',\n",
       "  'C:\\\\Program Files',\n",
       "  'C:\\\\Program Files'],\n",
       " 'PSMODULEPATH': ['C:\\\\Program Files\\\\WindowsPowerShell\\\\Modules;C:\\\\WINDOWS\\\\system32\\\\WindowsPowerShell\\\\v1.0\\\\Modules',\n",
       "  'C:\\\\Program Files\\\\WindowsPowerShell\\\\Modules;C:\\\\WINDOWS\\\\system32\\\\WindowsPowerShell\\\\v1.0\\\\Modules',\n",
       "  'C:\\\\Program Files\\\\WindowsPowerShell\\\\Modules;C:\\\\WINDOWS\\\\system32\\\\WindowsPowerShell\\\\v1.0\\\\Modules',\n",
       "  'C:\\\\Program Files\\\\WindowsPowerShell\\\\Modules;C:\\\\WINDOWS\\\\system32\\\\WindowsPowerShell\\\\v1.0\\\\Modules'],\n",
       " 'PUBLIC': ['C:\\\\Users\\\\Public',\n",
       "  'C:\\\\Users\\\\Public',\n",
       "  'C:\\\\Users\\\\Public',\n",
       "  'C:\\\\Users\\\\Public'],\n",
       " 'SESSIONNAME': ['Console', 'Console', 'Console', 'Console'],\n",
       " 'SYSTEMDRIVE': ['C:', 'C:', 'C:', 'C:'],\n",
       " 'SYSTEMROOT': ['C:\\\\WINDOWS', 'C:\\\\WINDOWS', 'C:\\\\WINDOWS', 'C:\\\\WINDOWS'],\n",
       " 'TEMP': ['C:\\\\Users\\\\SUNEEL~1\\\\AppData\\\\Local\\\\Temp',\n",
       "  'C:\\\\Users\\\\SUNEEL~1\\\\AppData\\\\Local\\\\Temp',\n",
       "  'C:\\\\Users\\\\SUNEEL~1\\\\AppData\\\\Local\\\\Temp',\n",
       "  'C:\\\\Users\\\\SUNEEL~1\\\\AppData\\\\Local\\\\Temp'],\n",
       " 'TERM': ['xterm-color', 'xterm-color', 'xterm-color', 'xterm-color'],\n",
       " 'TMP': ['C:\\\\Users\\\\SUNEEL~1\\\\AppData\\\\Local\\\\Temp',\n",
       "  'C:\\\\Users\\\\SUNEEL~1\\\\AppData\\\\Local\\\\Temp',\n",
       "  'C:\\\\Users\\\\SUNEEL~1\\\\AppData\\\\Local\\\\Temp',\n",
       "  'C:\\\\Users\\\\SUNEEL~1\\\\AppData\\\\Local\\\\Temp'],\n",
       " 'USERDOMAIN': ['LAPTOP-23GU92LK',\n",
       "  'LAPTOP-23GU92LK',\n",
       "  'LAPTOP-23GU92LK',\n",
       "  'LAPTOP-23GU92LK'],\n",
       " 'USERDOMAIN_ROAMINGPROFILE': ['LAPTOP-23GU92LK',\n",
       "  'LAPTOP-23GU92LK',\n",
       "  'LAPTOP-23GU92LK',\n",
       "  'LAPTOP-23GU92LK'],\n",
       " 'USERNAME': ['suneelnair1', 'suneelnair1', 'suneelnair1', 'suneelnair1'],\n",
       " 'USERPROFILE': ['C:\\\\Users\\\\suneelnair1',\n",
       "  'C:\\\\Users\\\\suneelnair1',\n",
       "  'C:\\\\Users\\\\suneelnair1',\n",
       "  'C:\\\\Users\\\\suneelnair1'],\n",
       " 'WINDIR': ['C:\\\\WINDOWS', 'C:\\\\WINDOWS', 'C:\\\\WINDOWS', 'C:\\\\WINDOWS']}"
      ]
     },
     "execution_count": 6,
     "metadata": {},
     "output_type": "execute_result"
    }
   ],
   "source": [
    "env_vars"
   ]
  },
  {
   "cell_type": "markdown",
   "metadata": {},
   "source": [
    "## Creating the job and using Multiprocessing"
   ]
  },
  {
   "cell_type": "code",
   "execution_count": 7,
   "metadata": {
    "collapsed": true
   },
   "outputs": [],
   "source": [
    "from multiprocessing import Process, Manager\n",
    "\n",
    "def f(d):\n",
    "    d[1] = img\n",
    "    d[2] = command_params\n",
    "    d[3] = env_vars\n",
    "    d[4] = cpu_memory_vars"
   ]
  },
  {
   "cell_type": "code",
   "execution_count": 8,
   "metadata": {},
   "outputs": [
    {
     "name": "stdout",
     "output_type": "stream",
     "text": [
      "Combining the parameters: {1: ['img1'], 2: ['cp', 'mv', 'rm'], 3: {'ALLUSERSPROFILE': ['C:\\\\ProgramData', 'C:\\\\ProgramData', 'C:\\\\ProgramData', 'C:\\\\ProgramData'], 'APPDATA': ['C:\\\\Users\\\\suneelnair1\\\\AppData\\\\Roaming', 'C:\\\\Users\\\\suneelnair1\\\\AppData\\\\Roaming', 'C:\\\\Users\\\\suneelnair1\\\\AppData\\\\Roaming', 'C:\\\\Users\\\\suneelnair1\\\\AppData\\\\Roaming'], 'COMMONPROGRAMFILES': ['C:\\\\Program Files\\\\Common Files', 'C:\\\\Program Files\\\\Common Files', 'C:\\\\Program Files\\\\Common Files', 'C:\\\\Program Files\\\\Common Files'], 'COMMONPROGRAMFILES(X86)': ['C:\\\\Program Files (x86)\\\\Common Files', 'C:\\\\Program Files (x86)\\\\Common Files', 'C:\\\\Program Files (x86)\\\\Common Files', 'C:\\\\Program Files (x86)\\\\Common Files'], 'COMMONPROGRAMW6432': ['C:\\\\Program Files\\\\Common Files', 'C:\\\\Program Files\\\\Common Files', 'C:\\\\Program Files\\\\Common Files', 'C:\\\\Program Files\\\\Common Files'], 'COMPUTERNAME': ['LAPTOP-23GU92LK', 'LAPTOP-23GU92LK', 'LAPTOP-23GU92LK', 'LAPTOP-23GU92LK'], 'COMSPEC': ['C:\\\\WINDOWS\\\\system32\\\\cmd.exe', 'C:\\\\WINDOWS\\\\system32\\\\cmd.exe', 'C:\\\\WINDOWS\\\\system32\\\\cmd.exe', 'C:\\\\WINDOWS\\\\system32\\\\cmd.exe'], 'CONFIGSETROOT': ['C:\\\\WINDOWS\\\\ConfigSetRoot', 'C:\\\\WINDOWS\\\\ConfigSetRoot', 'C:\\\\WINDOWS\\\\ConfigSetRoot', 'C:\\\\WINDOWS\\\\ConfigSetRoot'], 'HOMEDRIVE': ['C:', 'C:', 'C:', 'C:'], 'HOMEPATH': ['\\\\Users\\\\suneelnair1', '\\\\Users\\\\suneelnair1', '\\\\Users\\\\suneelnair1', '\\\\Users\\\\suneelnair1'], 'JAVA_HOME': ['C:\\\\Program Files\\\\Java\\\\jdk1.8.0_141', 'C:\\\\Program Files\\\\Java\\\\jdk1.8.0_141', 'C:\\\\Program Files\\\\Java\\\\jdk1.8.0_141', 'C:\\\\Program Files\\\\Java\\\\jdk1.8.0_141'], 'LOCALAPPDATA': ['C:\\\\Users\\\\suneelnair1\\\\AppData\\\\Local', 'C:\\\\Users\\\\suneelnair1\\\\AppData\\\\Local', 'C:\\\\Users\\\\suneelnair1\\\\AppData\\\\Local', 'C:\\\\Users\\\\suneelnair1\\\\AppData\\\\Local'], 'LOGONSERVER': ['\\\\\\\\LAPTOP-23GU92LK', '\\\\\\\\LAPTOP-23GU92LK', '\\\\\\\\LAPTOP-23GU92LK', '\\\\\\\\LAPTOP-23GU92LK'], 'NUMBER_OF_PROCESSORS': ['4', '4', '4', '4'], 'ONEDRIVE': ['C:\\\\Users\\\\suneelnair1\\\\OneDrive', 'C:\\\\Users\\\\suneelnair1\\\\OneDrive', 'C:\\\\Users\\\\suneelnair1\\\\OneDrive', 'C:\\\\Users\\\\suneelnair1\\\\OneDrive'], 'OS': ['Windows_NT', 'Windows_NT', 'Windows_NT', 'Windows_NT'], 'PATH': ['C:\\\\Users\\\\suneelnair1\\\\Anaconda3\\\\Library\\\\bin;C:\\\\Users\\\\suneelnair1\\\\Anaconda3\\\\Library\\\\bin;C:\\\\Users\\\\suneelnair1\\\\Anaconda3\\\\Scripts;C:\\\\Users\\\\suneelnair1\\\\Anaconda3\\\\Library\\\\bin;C:\\\\ProgramData\\\\Oracle\\\\Java\\\\javapath;C:\\\\Windows\\\\system32;C:\\\\Windows;C:\\\\Windows\\\\System32\\\\Wbem;C:\\\\Windows\\\\System32\\\\WindowsPowerShell\\\\v1.0\\\\;C:\\\\Program Files (x86)\\\\NVIDIA Corporation\\\\PhysX\\\\Common;C:\\\\Program Files\\\\Java\\\\jre1.8.0_141\\\\bin;C:\\\\Program Files\\\\Java\\\\jre1.8.0_141\\\\bin\\\\server;C:\\\\Program Files\\\\Java\\\\jdk1.8.0_141\\\\bin;C:\\\\WINDOWS\\\\system32;C:\\\\WINDOWS;C:\\\\WINDOWS\\\\System32\\\\Wbem;C:\\\\WINDOWS\\\\System32\\\\WindowsPowerShell\\\\v1.0\\\\;C:\\\\Users\\\\suneelnair1\\\\Anaconda3\\\\Scripts;C:\\\\Program Files\\\\PuTTY\\\\;C:\\\\Program Files\\\\Git\\\\cmd;C:\\\\Program Files\\\\OpenVPN\\\\bin;C:\\\\Users\\\\suneelnair1\\\\AppData\\\\Local\\\\Microsoft\\\\WindowsApps;', 'C:\\\\Users\\\\suneelnair1\\\\Anaconda3\\\\Library\\\\bin;C:\\\\Users\\\\suneelnair1\\\\Anaconda3\\\\Library\\\\bin;C:\\\\Users\\\\suneelnair1\\\\Anaconda3\\\\Scripts;C:\\\\Users\\\\suneelnair1\\\\Anaconda3\\\\Library\\\\bin;C:\\\\ProgramData\\\\Oracle\\\\Java\\\\javapath;C:\\\\Windows\\\\system32;C:\\\\Windows;C:\\\\Windows\\\\System32\\\\Wbem;C:\\\\Windows\\\\System32\\\\WindowsPowerShell\\\\v1.0\\\\;C:\\\\Program Files (x86)\\\\NVIDIA Corporation\\\\PhysX\\\\Common;C:\\\\Program Files\\\\Java\\\\jre1.8.0_141\\\\bin;C:\\\\Program Files\\\\Java\\\\jre1.8.0_141\\\\bin\\\\server;C:\\\\Program Files\\\\Java\\\\jdk1.8.0_141\\\\bin;C:\\\\WINDOWS\\\\system32;C:\\\\WINDOWS;C:\\\\WINDOWS\\\\System32\\\\Wbem;C:\\\\WINDOWS\\\\System32\\\\WindowsPowerShell\\\\v1.0\\\\;C:\\\\Users\\\\suneelnair1\\\\Anaconda3\\\\Scripts;C:\\\\Program Files\\\\PuTTY\\\\;C:\\\\Program Files\\\\Git\\\\cmd;C:\\\\Program Files\\\\OpenVPN\\\\bin;C:\\\\Users\\\\suneelnair1\\\\AppData\\\\Local\\\\Microsoft\\\\WindowsApps;', 'C:\\\\Users\\\\suneelnair1\\\\Anaconda3\\\\Library\\\\bin;C:\\\\Users\\\\suneelnair1\\\\Anaconda3\\\\Library\\\\bin;C:\\\\Users\\\\suneelnair1\\\\Anaconda3\\\\Scripts;C:\\\\Users\\\\suneelnair1\\\\Anaconda3\\\\Library\\\\bin;C:\\\\ProgramData\\\\Oracle\\\\Java\\\\javapath;C:\\\\Windows\\\\system32;C:\\\\Windows;C:\\\\Windows\\\\System32\\\\Wbem;C:\\\\Windows\\\\System32\\\\WindowsPowerShell\\\\v1.0\\\\;C:\\\\Program Files (x86)\\\\NVIDIA Corporation\\\\PhysX\\\\Common;C:\\\\Program Files\\\\Java\\\\jre1.8.0_141\\\\bin;C:\\\\Program Files\\\\Java\\\\jre1.8.0_141\\\\bin\\\\server;C:\\\\Program Files\\\\Java\\\\jdk1.8.0_141\\\\bin;C:\\\\WINDOWS\\\\system32;C:\\\\WINDOWS;C:\\\\WINDOWS\\\\System32\\\\Wbem;C:\\\\WINDOWS\\\\System32\\\\WindowsPowerShell\\\\v1.0\\\\;C:\\\\Users\\\\suneelnair1\\\\Anaconda3\\\\Scripts;C:\\\\Program Files\\\\PuTTY\\\\;C:\\\\Program Files\\\\Git\\\\cmd;C:\\\\Program Files\\\\OpenVPN\\\\bin;C:\\\\Users\\\\suneelnair1\\\\AppData\\\\Local\\\\Microsoft\\\\WindowsApps;', 'C:\\\\Users\\\\suneelnair1\\\\Anaconda3\\\\Library\\\\bin;C:\\\\Users\\\\suneelnair1\\\\Anaconda3\\\\Library\\\\bin;C:\\\\Users\\\\suneelnair1\\\\Anaconda3\\\\Scripts;C:\\\\Users\\\\suneelnair1\\\\Anaconda3\\\\Library\\\\bin;C:\\\\ProgramData\\\\Oracle\\\\Java\\\\javapath;C:\\\\Windows\\\\system32;C:\\\\Windows;C:\\\\Windows\\\\System32\\\\Wbem;C:\\\\Windows\\\\System32\\\\WindowsPowerShell\\\\v1.0\\\\;C:\\\\Program Files (x86)\\\\NVIDIA Corporation\\\\PhysX\\\\Common;C:\\\\Program Files\\\\Java\\\\jre1.8.0_141\\\\bin;C:\\\\Program Files\\\\Java\\\\jre1.8.0_141\\\\bin\\\\server;C:\\\\Program Files\\\\Java\\\\jdk1.8.0_141\\\\bin;C:\\\\WINDOWS\\\\system32;C:\\\\WINDOWS;C:\\\\WINDOWS\\\\System32\\\\Wbem;C:\\\\WINDOWS\\\\System32\\\\WindowsPowerShell\\\\v1.0\\\\;C:\\\\Users\\\\suneelnair1\\\\Anaconda3\\\\Scripts;C:\\\\Program Files\\\\PuTTY\\\\;C:\\\\Program Files\\\\Git\\\\cmd;C:\\\\Program Files\\\\OpenVPN\\\\bin;C:\\\\Users\\\\suneelnair1\\\\AppData\\\\Local\\\\Microsoft\\\\WindowsApps;'], 'PATHEXT': ['.COM;.EXE;.BAT;.CMD;.VBS;.VBE;.JS;.JSE;.WSF;.WSH;.MSC', '.COM;.EXE;.BAT;.CMD;.VBS;.VBE;.JS;.JSE;.WSF;.WSH;.MSC', '.COM;.EXE;.BAT;.CMD;.VBS;.VBE;.JS;.JSE;.WSF;.WSH;.MSC', '.COM;.EXE;.BAT;.CMD;.VBS;.VBE;.JS;.JSE;.WSF;.WSH;.MSC'], 'PROCESSOR_ARCHITECTURE': ['AMD64', 'AMD64', 'AMD64', 'AMD64'], 'PROCESSOR_IDENTIFIER': ['Intel64 Family 6 Model 142 Stepping 9, GenuineIntel', 'Intel64 Family 6 Model 142 Stepping 9, GenuineIntel', 'Intel64 Family 6 Model 142 Stepping 9, GenuineIntel', 'Intel64 Family 6 Model 142 Stepping 9, GenuineIntel'], 'PROCESSOR_LEVEL': ['6', '6', '6', '6'], 'PROCESSOR_REVISION': ['8e09', '8e09', '8e09', '8e09'], 'PROGRAMDATA': ['C:\\\\ProgramData', 'C:\\\\ProgramData', 'C:\\\\ProgramData', 'C:\\\\ProgramData'], 'PROGRAMFILES': ['C:\\\\Program Files', 'C:\\\\Program Files', 'C:\\\\Program Files', 'C:\\\\Program Files'], 'PROGRAMFILES(X86)': ['C:\\\\Program Files (x86)', 'C:\\\\Program Files (x86)', 'C:\\\\Program Files (x86)', 'C:\\\\Program Files (x86)'], 'PROGRAMW6432': ['C:\\\\Program Files', 'C:\\\\Program Files', 'C:\\\\Program Files', 'C:\\\\Program Files'], 'PSMODULEPATH': ['C:\\\\Program Files\\\\WindowsPowerShell\\\\Modules;C:\\\\WINDOWS\\\\system32\\\\WindowsPowerShell\\\\v1.0\\\\Modules', 'C:\\\\Program Files\\\\WindowsPowerShell\\\\Modules;C:\\\\WINDOWS\\\\system32\\\\WindowsPowerShell\\\\v1.0\\\\Modules', 'C:\\\\Program Files\\\\WindowsPowerShell\\\\Modules;C:\\\\WINDOWS\\\\system32\\\\WindowsPowerShell\\\\v1.0\\\\Modules', 'C:\\\\Program Files\\\\WindowsPowerShell\\\\Modules;C:\\\\WINDOWS\\\\system32\\\\WindowsPowerShell\\\\v1.0\\\\Modules'], 'PUBLIC': ['C:\\\\Users\\\\Public', 'C:\\\\Users\\\\Public', 'C:\\\\Users\\\\Public', 'C:\\\\Users\\\\Public'], 'SESSIONNAME': ['Console', 'Console', 'Console', 'Console'], 'SYSTEMDRIVE': ['C:', 'C:', 'C:', 'C:'], 'SYSTEMROOT': ['C:\\\\WINDOWS', 'C:\\\\WINDOWS', 'C:\\\\WINDOWS', 'C:\\\\WINDOWS'], 'TEMP': ['C:\\\\Users\\\\SUNEEL~1\\\\AppData\\\\Local\\\\Temp', 'C:\\\\Users\\\\SUNEEL~1\\\\AppData\\\\Local\\\\Temp', 'C:\\\\Users\\\\SUNEEL~1\\\\AppData\\\\Local\\\\Temp', 'C:\\\\Users\\\\SUNEEL~1\\\\AppData\\\\Local\\\\Temp'], 'TMP': ['C:\\\\Users\\\\SUNEEL~1\\\\AppData\\\\Local\\\\Temp', 'C:\\\\Users\\\\SUNEEL~1\\\\AppData\\\\Local\\\\Temp', 'C:\\\\Users\\\\SUNEEL~1\\\\AppData\\\\Local\\\\Temp', 'C:\\\\Users\\\\SUNEEL~1\\\\AppData\\\\Local\\\\Temp'], 'USERDOMAIN': ['LAPTOP-23GU92LK', 'LAPTOP-23GU92LK', 'LAPTOP-23GU92LK', 'LAPTOP-23GU92LK'], 'USERDOMAIN_ROAMINGPROFILE': ['LAPTOP-23GU92LK', 'LAPTOP-23GU92LK', 'LAPTOP-23GU92LK', 'LAPTOP-23GU92LK'], 'USERNAME': ['suneelnair1', 'suneelnair1', 'suneelnair1', 'suneelnair1'], 'USERPROFILE': ['C:\\\\Users\\\\suneelnair1', 'C:\\\\Users\\\\suneelnair1', 'C:\\\\Users\\\\suneelnair1', 'C:\\\\Users\\\\suneelnair1'], 'WINDIR': ['C:\\\\WINDOWS', 'C:\\\\WINDOWS', 'C:\\\\WINDOWS', 'C:\\\\WINDOWS'], 'JPY_INTERRUPT_EVENT': ['1760', '1760', '1760', '1760'], 'IPY_INTERRUPT_EVENT': ['1760', '1760', '1760', '1760'], 'JPY_PARENT_PID': ['1740', '1740', '1740', '1740'], 'TERM': ['xterm-color', 'xterm-color', 'xterm-color', 'xterm-color'], 'CLICOLOR': ['1', '1', '1', '1'], 'PAGER': ['cat', 'cat', 'cat', 'cat'], 'GIT_PAGER': ['cat', 'cat', 'cat', 'cat'], 'MPLBACKEND': ['module://ipykernel.pylab.backend_inline', 'module://ipykernel.pylab.backend_inline', 'module://ipykernel.pylab.backend_inline', 'module://ipykernel.pylab.backend_inline']}, 4: {'CPU': [['x86-32', 'x86-64']], 'Memory': [['1 GB', '1 GB']], 'Hard Disk': [['200 MB', '250 MB']]}}\n"
     ]
    }
   ],
   "source": [
    "if __name__ == '__main__':\n",
    "    client = Manager()\n",
    "\n",
    "    d = client.dict()\n",
    "    d[1] = img\n",
    "    d[2] = command_params\n",
    "    d[3] = env_vars\n",
    "    d[4] = cpu_memory_vars\n",
    "\n",
    "    p1 = Process(target=f, args=(d,))\n",
    "    p2 = Process(target=f, args=(d,))\n",
    "    p1.start()\n",
    "    p2.start()\n",
    "    p1.join()\n",
    "    p2.join()\n",
    "\n",
    "    print('Combining the parameters:', d)"
   ]
  },
  {
   "cell_type": "markdown",
   "metadata": {},
   "source": [
    "## Parallel processing of jobs"
   ]
  },
  {
   "cell_type": "code",
   "execution_count": 9,
   "metadata": {
    "collapsed": true
   },
   "outputs": [],
   "source": [
    "def func1():\n",
    "    print('func1: starting')\n",
    "    for i in range(len(env_vars)): pass\n",
    "    print(env_vars)"
   ]
  },
  {
   "cell_type": "code",
   "execution_count": 10,
   "metadata": {
    "collapsed": true
   },
   "outputs": [],
   "source": [
    "def func2():\n",
    "    print('func2: starting')\n",
    "    for i in range(cpu_memory_vars): pass\n",
    "    print(cpu_memory_vars)"
   ]
  },
  {
   "cell_type": "code",
   "execution_count": 11,
   "metadata": {
    "collapsed": true
   },
   "outputs": [],
   "source": [
    "def runInParallel(*fns):\n",
    "    proc = []\n",
    "    for fn in fns:\n",
    "        p = Process(target=fn)\n",
    "        p.start()\n",
    "        proc.append(p)\n",
    "    for p in proc:\n",
    "        p.join()        "
   ]
  },
  {
   "cell_type": "code",
   "execution_count": 12,
   "metadata": {
    "collapsed": true
   },
   "outputs": [],
   "source": [
    "runInParallel(func1, func2)"
   ]
  },
  {
   "cell_type": "code",
   "execution_count": 13,
   "metadata": {
    "collapsed": true
   },
   "outputs": [],
   "source": [
    "def func3(img,command_params,env_vars,cpu_memory_vars):\n",
    "    transaction_count = len(env_vars)*len(command_params)\n",
    "    return transaction_count"
   ]
  },
  {
   "cell_type": "code",
   "execution_count": 14,
   "metadata": {},
   "outputs": [
    {
     "name": "stdout",
     "output_type": "stream",
     "text": [
      "138\n"
     ]
    }
   ],
   "source": [
    "result = func3(img,command_params,env_vars,cpu_memory_vars)\n",
    "print(result)"
   ]
  },
  {
   "cell_type": "markdown",
   "metadata": {},
   "source": [
    "## Setup the Worker"
   ]
  },
  {
   "cell_type": "code",
   "execution_count": 15,
   "metadata": {},
   "outputs": [
    {
     "ename": "ConnectionError",
     "evalue": "Error 10061 connecting to localhost:6379. No connection could be made because the target machine actively refused it.",
     "output_type": "error",
     "traceback": [
      "\u001b[1;31m---------------------------------------------------------------------------\u001b[0m",
      "\u001b[1;31mConnectionRefusedError\u001b[0m                    Traceback (most recent call last)",
      "\u001b[1;32mC:\\Users\\suneelnair1\\Anaconda3\\lib\\site-packages\\redis\\connection.py\u001b[0m in \u001b[0;36mconnect\u001b[1;34m(self)\u001b[0m\n\u001b[0;32m    483\u001b[0m         \u001b[1;32mtry\u001b[0m\u001b[1;33m:\u001b[0m\u001b[1;33m\u001b[0m\u001b[0m\n\u001b[1;32m--> 484\u001b[1;33m             \u001b[0msock\u001b[0m \u001b[1;33m=\u001b[0m \u001b[0mself\u001b[0m\u001b[1;33m.\u001b[0m\u001b[0m_connect\u001b[0m\u001b[1;33m(\u001b[0m\u001b[1;33m)\u001b[0m\u001b[1;33m\u001b[0m\u001b[0m\n\u001b[0m\u001b[0;32m    485\u001b[0m         \u001b[1;32mexcept\u001b[0m \u001b[0msocket\u001b[0m\u001b[1;33m.\u001b[0m\u001b[0mtimeout\u001b[0m\u001b[1;33m:\u001b[0m\u001b[1;33m\u001b[0m\u001b[0m\n",
      "\u001b[1;32mC:\\Users\\suneelnair1\\Anaconda3\\lib\\site-packages\\redis\\connection.py\u001b[0m in \u001b[0;36m_connect\u001b[1;34m(self)\u001b[0m\n\u001b[0;32m    540\u001b[0m         \u001b[1;32mif\u001b[0m \u001b[0merr\u001b[0m \u001b[1;32mis\u001b[0m \u001b[1;32mnot\u001b[0m \u001b[1;32mNone\u001b[0m\u001b[1;33m:\u001b[0m\u001b[1;33m\u001b[0m\u001b[0m\n\u001b[1;32m--> 541\u001b[1;33m             \u001b[1;32mraise\u001b[0m \u001b[0merr\u001b[0m\u001b[1;33m\u001b[0m\u001b[0m\n\u001b[0m\u001b[0;32m    542\u001b[0m         \u001b[1;32mraise\u001b[0m \u001b[0msocket\u001b[0m\u001b[1;33m.\u001b[0m\u001b[0merror\u001b[0m\u001b[1;33m(\u001b[0m\u001b[1;34m\"socket.getaddrinfo returned an empty list\"\u001b[0m\u001b[1;33m)\u001b[0m\u001b[1;33m\u001b[0m\u001b[0m\n",
      "\u001b[1;32mC:\\Users\\suneelnair1\\Anaconda3\\lib\\site-packages\\redis\\connection.py\u001b[0m in \u001b[0;36m_connect\u001b[1;34m(self)\u001b[0m\n\u001b[0;32m    528\u001b[0m                 \u001b[1;31m# connect\u001b[0m\u001b[1;33m\u001b[0m\u001b[1;33m\u001b[0m\u001b[0m\n\u001b[1;32m--> 529\u001b[1;33m                 \u001b[0msock\u001b[0m\u001b[1;33m.\u001b[0m\u001b[0mconnect\u001b[0m\u001b[1;33m(\u001b[0m\u001b[0msocket_address\u001b[0m\u001b[1;33m)\u001b[0m\u001b[1;33m\u001b[0m\u001b[0m\n\u001b[0m\u001b[0;32m    530\u001b[0m \u001b[1;33m\u001b[0m\u001b[0m\n",
      "\u001b[1;31mConnectionRefusedError\u001b[0m: [WinError 10061] No connection could be made because the target machine actively refused it",
      "\nDuring handling of the above exception, another exception occurred:\n",
      "\u001b[1;31mConnectionError\u001b[0m                           Traceback (most recent call last)",
      "\u001b[1;32mC:\\Users\\suneelnair1\\Anaconda3\\lib\\site-packages\\redis\\client.py\u001b[0m in \u001b[0;36mexecute_command\u001b[1;34m(self, *args, **options)\u001b[0m\n\u001b[0;32m    666\u001b[0m         \u001b[1;32mtry\u001b[0m\u001b[1;33m:\u001b[0m\u001b[1;33m\u001b[0m\u001b[0m\n\u001b[1;32m--> 667\u001b[1;33m             \u001b[0mconnection\u001b[0m\u001b[1;33m.\u001b[0m\u001b[0msend_command\u001b[0m\u001b[1;33m(\u001b[0m\u001b[1;33m*\u001b[0m\u001b[0margs\u001b[0m\u001b[1;33m)\u001b[0m\u001b[1;33m\u001b[0m\u001b[0m\n\u001b[0m\u001b[0;32m    668\u001b[0m             \u001b[1;32mreturn\u001b[0m \u001b[0mself\u001b[0m\u001b[1;33m.\u001b[0m\u001b[0mparse_response\u001b[0m\u001b[1;33m(\u001b[0m\u001b[0mconnection\u001b[0m\u001b[1;33m,\u001b[0m \u001b[0mcommand_name\u001b[0m\u001b[1;33m,\u001b[0m \u001b[1;33m**\u001b[0m\u001b[0moptions\u001b[0m\u001b[1;33m)\u001b[0m\u001b[1;33m\u001b[0m\u001b[0m\n",
      "\u001b[1;32mC:\\Users\\suneelnair1\\Anaconda3\\lib\\site-packages\\redis\\connection.py\u001b[0m in \u001b[0;36msend_command\u001b[1;34m(self, *args)\u001b[0m\n\u001b[0;32m    609\u001b[0m         \u001b[1;34m\"Pack and send a command to the Redis server\"\u001b[0m\u001b[1;33m\u001b[0m\u001b[0m\n\u001b[1;32m--> 610\u001b[1;33m         \u001b[0mself\u001b[0m\u001b[1;33m.\u001b[0m\u001b[0msend_packed_command\u001b[0m\u001b[1;33m(\u001b[0m\u001b[0mself\u001b[0m\u001b[1;33m.\u001b[0m\u001b[0mpack_command\u001b[0m\u001b[1;33m(\u001b[0m\u001b[1;33m*\u001b[0m\u001b[0margs\u001b[0m\u001b[1;33m)\u001b[0m\u001b[1;33m)\u001b[0m\u001b[1;33m\u001b[0m\u001b[0m\n\u001b[0m\u001b[0;32m    611\u001b[0m \u001b[1;33m\u001b[0m\u001b[0m\n",
      "\u001b[1;32mC:\\Users\\suneelnair1\\Anaconda3\\lib\\site-packages\\redis\\connection.py\u001b[0m in \u001b[0;36msend_packed_command\u001b[1;34m(self, command)\u001b[0m\n\u001b[0;32m    584\u001b[0m         \u001b[1;32mif\u001b[0m \u001b[1;32mnot\u001b[0m \u001b[0mself\u001b[0m\u001b[1;33m.\u001b[0m\u001b[0m_sock\u001b[0m\u001b[1;33m:\u001b[0m\u001b[1;33m\u001b[0m\u001b[0m\n\u001b[1;32m--> 585\u001b[1;33m             \u001b[0mself\u001b[0m\u001b[1;33m.\u001b[0m\u001b[0mconnect\u001b[0m\u001b[1;33m(\u001b[0m\u001b[1;33m)\u001b[0m\u001b[1;33m\u001b[0m\u001b[0m\n\u001b[0m\u001b[0;32m    586\u001b[0m         \u001b[1;32mtry\u001b[0m\u001b[1;33m:\u001b[0m\u001b[1;33m\u001b[0m\u001b[0m\n",
      "\u001b[1;32mC:\\Users\\suneelnair1\\Anaconda3\\lib\\site-packages\\redis\\connection.py\u001b[0m in \u001b[0;36mconnect\u001b[1;34m(self)\u001b[0m\n\u001b[0;32m    488\u001b[0m             \u001b[0me\u001b[0m \u001b[1;33m=\u001b[0m \u001b[0msys\u001b[0m\u001b[1;33m.\u001b[0m\u001b[0mexc_info\u001b[0m\u001b[1;33m(\u001b[0m\u001b[1;33m)\u001b[0m\u001b[1;33m[\u001b[0m\u001b[1;36m1\u001b[0m\u001b[1;33m]\u001b[0m\u001b[1;33m\u001b[0m\u001b[0m\n\u001b[1;32m--> 489\u001b[1;33m             \u001b[1;32mraise\u001b[0m \u001b[0mConnectionError\u001b[0m\u001b[1;33m(\u001b[0m\u001b[0mself\u001b[0m\u001b[1;33m.\u001b[0m\u001b[0m_error_message\u001b[0m\u001b[1;33m(\u001b[0m\u001b[0me\u001b[0m\u001b[1;33m)\u001b[0m\u001b[1;33m)\u001b[0m\u001b[1;33m\u001b[0m\u001b[0m\n\u001b[0m\u001b[0;32m    490\u001b[0m \u001b[1;33m\u001b[0m\u001b[0m\n",
      "\u001b[1;31mConnectionError\u001b[0m: Error 10061 connecting to localhost:6379. No connection could be made because the target machine actively refused it.",
      "\nDuring handling of the above exception, another exception occurred:\n",
      "\u001b[1;31mConnectionRefusedError\u001b[0m                    Traceback (most recent call last)",
      "\u001b[1;32mC:\\Users\\suneelnair1\\Anaconda3\\lib\\site-packages\\redis\\connection.py\u001b[0m in \u001b[0;36mconnect\u001b[1;34m(self)\u001b[0m\n\u001b[0;32m    483\u001b[0m         \u001b[1;32mtry\u001b[0m\u001b[1;33m:\u001b[0m\u001b[1;33m\u001b[0m\u001b[0m\n\u001b[1;32m--> 484\u001b[1;33m             \u001b[0msock\u001b[0m \u001b[1;33m=\u001b[0m \u001b[0mself\u001b[0m\u001b[1;33m.\u001b[0m\u001b[0m_connect\u001b[0m\u001b[1;33m(\u001b[0m\u001b[1;33m)\u001b[0m\u001b[1;33m\u001b[0m\u001b[0m\n\u001b[0m\u001b[0;32m    485\u001b[0m         \u001b[1;32mexcept\u001b[0m \u001b[0msocket\u001b[0m\u001b[1;33m.\u001b[0m\u001b[0mtimeout\u001b[0m\u001b[1;33m:\u001b[0m\u001b[1;33m\u001b[0m\u001b[0m\n",
      "\u001b[1;32mC:\\Users\\suneelnair1\\Anaconda3\\lib\\site-packages\\redis\\connection.py\u001b[0m in \u001b[0;36m_connect\u001b[1;34m(self)\u001b[0m\n\u001b[0;32m    540\u001b[0m         \u001b[1;32mif\u001b[0m \u001b[0merr\u001b[0m \u001b[1;32mis\u001b[0m \u001b[1;32mnot\u001b[0m \u001b[1;32mNone\u001b[0m\u001b[1;33m:\u001b[0m\u001b[1;33m\u001b[0m\u001b[0m\n\u001b[1;32m--> 541\u001b[1;33m             \u001b[1;32mraise\u001b[0m \u001b[0merr\u001b[0m\u001b[1;33m\u001b[0m\u001b[0m\n\u001b[0m\u001b[0;32m    542\u001b[0m         \u001b[1;32mraise\u001b[0m \u001b[0msocket\u001b[0m\u001b[1;33m.\u001b[0m\u001b[0merror\u001b[0m\u001b[1;33m(\u001b[0m\u001b[1;34m\"socket.getaddrinfo returned an empty list\"\u001b[0m\u001b[1;33m)\u001b[0m\u001b[1;33m\u001b[0m\u001b[0m\n",
      "\u001b[1;32mC:\\Users\\suneelnair1\\Anaconda3\\lib\\site-packages\\redis\\connection.py\u001b[0m in \u001b[0;36m_connect\u001b[1;34m(self)\u001b[0m\n\u001b[0;32m    528\u001b[0m                 \u001b[1;31m# connect\u001b[0m\u001b[1;33m\u001b[0m\u001b[1;33m\u001b[0m\u001b[0m\n\u001b[1;32m--> 529\u001b[1;33m                 \u001b[0msock\u001b[0m\u001b[1;33m.\u001b[0m\u001b[0mconnect\u001b[0m\u001b[1;33m(\u001b[0m\u001b[0msocket_address\u001b[0m\u001b[1;33m)\u001b[0m\u001b[1;33m\u001b[0m\u001b[0m\n\u001b[0m\u001b[0;32m    530\u001b[0m \u001b[1;33m\u001b[0m\u001b[0m\n",
      "\u001b[1;31mConnectionRefusedError\u001b[0m: [WinError 10061] No connection could be made because the target machine actively refused it",
      "\nDuring handling of the above exception, another exception occurred:\n",
      "\u001b[1;31mConnectionError\u001b[0m                           Traceback (most recent call last)",
      "\u001b[1;32m<ipython-input-15-d8598b930f88>\u001b[0m in \u001b[0;36m<module>\u001b[1;34m()\u001b[0m\n\u001b[0;32m     12\u001b[0m     \u001b[1;32mwith\u001b[0m \u001b[0mConnection\u001b[0m\u001b[1;33m(\u001b[0m\u001b[0mredis_conn\u001b[0m\u001b[1;33m)\u001b[0m\u001b[1;33m:\u001b[0m\u001b[1;33m\u001b[0m\u001b[0m\n\u001b[0;32m     13\u001b[0m         \u001b[0mworker\u001b[0m \u001b[1;33m=\u001b[0m \u001b[0mWorker\u001b[0m\u001b[1;33m(\u001b[0m\u001b[0mlist\u001b[0m\u001b[1;33m(\u001b[0m\u001b[0mmap\u001b[0m\u001b[1;33m(\u001b[0m\u001b[0mQueue\u001b[0m\u001b[1;33m,\u001b[0m\u001b[0mlisten\u001b[0m\u001b[1;33m)\u001b[0m\u001b[1;33m)\u001b[0m\u001b[1;33m)\u001b[0m\u001b[1;33m\u001b[0m\u001b[0m\n\u001b[1;32m---> 14\u001b[1;33m         \u001b[0mworker\u001b[0m\u001b[1;33m.\u001b[0m\u001b[0mwork\u001b[0m\u001b[1;33m(\u001b[0m\u001b[1;33m)\u001b[0m\u001b[1;33m\u001b[0m\u001b[0m\n\u001b[0m",
      "\u001b[1;32mC:\\Users\\suneelnair1\\Anaconda3\\lib\\site-packages\\rq\\worker.py\u001b[0m in \u001b[0;36mwork\u001b[1;34m(self, burst, logging_level)\u001b[0m\n\u001b[0;32m    466\u001b[0m \u001b[1;33m\u001b[0m\u001b[0m\n\u001b[0;32m    467\u001b[0m         \u001b[0mdid_perform_work\u001b[0m \u001b[1;33m=\u001b[0m \u001b[1;32mFalse\u001b[0m\u001b[1;33m\u001b[0m\u001b[0m\n\u001b[1;32m--> 468\u001b[1;33m         \u001b[0mself\u001b[0m\u001b[1;33m.\u001b[0m\u001b[0mregister_birth\u001b[0m\u001b[1;33m(\u001b[0m\u001b[1;33m)\u001b[0m\u001b[1;33m\u001b[0m\u001b[0m\n\u001b[0m\u001b[0;32m    469\u001b[0m         \u001b[0mself\u001b[0m\u001b[1;33m.\u001b[0m\u001b[0mlog\u001b[0m\u001b[1;33m.\u001b[0m\u001b[0minfo\u001b[0m\u001b[1;33m(\u001b[0m\u001b[1;34m\"RQ worker {0!r} started, version {1}\"\u001b[0m\u001b[1;33m.\u001b[0m\u001b[0mformat\u001b[0m\u001b[1;33m(\u001b[0m\u001b[0mself\u001b[0m\u001b[1;33m.\u001b[0m\u001b[0mkey\u001b[0m\u001b[1;33m,\u001b[0m \u001b[0mVERSION\u001b[0m\u001b[1;33m)\u001b[0m\u001b[1;33m)\u001b[0m\u001b[1;33m\u001b[0m\u001b[0m\n\u001b[0;32m    470\u001b[0m         \u001b[0mself\u001b[0m\u001b[1;33m.\u001b[0m\u001b[0mset_state\u001b[0m\u001b[1;33m(\u001b[0m\u001b[0mWorkerStatus\u001b[0m\u001b[1;33m.\u001b[0m\u001b[0mSTARTED\u001b[0m\u001b[1;33m)\u001b[0m\u001b[1;33m\u001b[0m\u001b[0m\n",
      "\u001b[1;32mC:\\Users\\suneelnair1\\Anaconda3\\lib\\site-packages\\rq\\worker.py\u001b[0m in \u001b[0;36mregister_birth\u001b[1;34m(self)\u001b[0m\n\u001b[0;32m    273\u001b[0m         \u001b[1;34m\"\"\"Registers its own birth.\"\"\"\u001b[0m\u001b[1;33m\u001b[0m\u001b[0m\n\u001b[0;32m    274\u001b[0m         \u001b[0mself\u001b[0m\u001b[1;33m.\u001b[0m\u001b[0mlog\u001b[0m\u001b[1;33m.\u001b[0m\u001b[0mdebug\u001b[0m\u001b[1;33m(\u001b[0m\u001b[1;34m'Registering birth of worker %s'\u001b[0m\u001b[1;33m,\u001b[0m \u001b[0mself\u001b[0m\u001b[1;33m.\u001b[0m\u001b[0mname\u001b[0m\u001b[1;33m)\u001b[0m\u001b[1;33m\u001b[0m\u001b[0m\n\u001b[1;32m--> 275\u001b[1;33m         \u001b[1;32mif\u001b[0m \u001b[0mself\u001b[0m\u001b[1;33m.\u001b[0m\u001b[0mconnection\u001b[0m\u001b[1;33m.\u001b[0m\u001b[0mexists\u001b[0m\u001b[1;33m(\u001b[0m\u001b[0mself\u001b[0m\u001b[1;33m.\u001b[0m\u001b[0mkey\u001b[0m\u001b[1;33m)\u001b[0m \u001b[1;32mand\u001b[0m\u001b[0;31m \u001b[0m\u001b[0;31m\\\u001b[0m\u001b[1;33m\u001b[0m\u001b[0m\n\u001b[0m\u001b[0;32m    276\u001b[0m                 \u001b[1;32mnot\u001b[0m \u001b[0mself\u001b[0m\u001b[1;33m.\u001b[0m\u001b[0mconnection\u001b[0m\u001b[1;33m.\u001b[0m\u001b[0mhexists\u001b[0m\u001b[1;33m(\u001b[0m\u001b[0mself\u001b[0m\u001b[1;33m.\u001b[0m\u001b[0mkey\u001b[0m\u001b[1;33m,\u001b[0m \u001b[1;34m'death'\u001b[0m\u001b[1;33m)\u001b[0m\u001b[1;33m:\u001b[0m\u001b[1;33m\u001b[0m\u001b[0m\n\u001b[0;32m    277\u001b[0m             \u001b[0mmsg\u001b[0m \u001b[1;33m=\u001b[0m \u001b[1;34m'There exists an active worker named {0!r} already'\u001b[0m\u001b[1;33m\u001b[0m\u001b[0m\n",
      "\u001b[1;32mC:\\Users\\suneelnair1\\Anaconda3\\lib\\site-packages\\redis\\client.py\u001b[0m in \u001b[0;36mexists\u001b[1;34m(self, name)\u001b[0m\n\u001b[0;32m    949\u001b[0m     \u001b[1;32mdef\u001b[0m \u001b[0mexists\u001b[0m\u001b[1;33m(\u001b[0m\u001b[0mself\u001b[0m\u001b[1;33m,\u001b[0m \u001b[0mname\u001b[0m\u001b[1;33m)\u001b[0m\u001b[1;33m:\u001b[0m\u001b[1;33m\u001b[0m\u001b[0m\n\u001b[0;32m    950\u001b[0m         \u001b[1;34m\"Returns a boolean indicating whether key ``name`` exists\"\u001b[0m\u001b[1;33m\u001b[0m\u001b[0m\n\u001b[1;32m--> 951\u001b[1;33m         \u001b[1;32mreturn\u001b[0m \u001b[0mself\u001b[0m\u001b[1;33m.\u001b[0m\u001b[0mexecute_command\u001b[0m\u001b[1;33m(\u001b[0m\u001b[1;34m'EXISTS'\u001b[0m\u001b[1;33m,\u001b[0m \u001b[0mname\u001b[0m\u001b[1;33m)\u001b[0m\u001b[1;33m\u001b[0m\u001b[0m\n\u001b[0m\u001b[0;32m    952\u001b[0m     \u001b[0m__contains__\u001b[0m \u001b[1;33m=\u001b[0m \u001b[0mexists\u001b[0m\u001b[1;33m\u001b[0m\u001b[0m\n\u001b[0;32m    953\u001b[0m \u001b[1;33m\u001b[0m\u001b[0m\n",
      "\u001b[1;32mC:\\Users\\suneelnair1\\Anaconda3\\lib\\site-packages\\redis\\client.py\u001b[0m in \u001b[0;36mexecute_command\u001b[1;34m(self, *args, **options)\u001b[0m\n\u001b[0;32m    671\u001b[0m             \u001b[1;32mif\u001b[0m \u001b[1;32mnot\u001b[0m \u001b[0mconnection\u001b[0m\u001b[1;33m.\u001b[0m\u001b[0mretry_on_timeout\u001b[0m \u001b[1;32mand\u001b[0m \u001b[0misinstance\u001b[0m\u001b[1;33m(\u001b[0m\u001b[0me\u001b[0m\u001b[1;33m,\u001b[0m \u001b[0mTimeoutError\u001b[0m\u001b[1;33m)\u001b[0m\u001b[1;33m:\u001b[0m\u001b[1;33m\u001b[0m\u001b[0m\n\u001b[0;32m    672\u001b[0m                 \u001b[1;32mraise\u001b[0m\u001b[1;33m\u001b[0m\u001b[0m\n\u001b[1;32m--> 673\u001b[1;33m             \u001b[0mconnection\u001b[0m\u001b[1;33m.\u001b[0m\u001b[0msend_command\u001b[0m\u001b[1;33m(\u001b[0m\u001b[1;33m*\u001b[0m\u001b[0margs\u001b[0m\u001b[1;33m)\u001b[0m\u001b[1;33m\u001b[0m\u001b[0m\n\u001b[0m\u001b[0;32m    674\u001b[0m             \u001b[1;32mreturn\u001b[0m \u001b[0mself\u001b[0m\u001b[1;33m.\u001b[0m\u001b[0mparse_response\u001b[0m\u001b[1;33m(\u001b[0m\u001b[0mconnection\u001b[0m\u001b[1;33m,\u001b[0m \u001b[0mcommand_name\u001b[0m\u001b[1;33m,\u001b[0m \u001b[1;33m**\u001b[0m\u001b[0moptions\u001b[0m\u001b[1;33m)\u001b[0m\u001b[1;33m\u001b[0m\u001b[0m\n\u001b[0;32m    675\u001b[0m         \u001b[1;32mfinally\u001b[0m\u001b[1;33m:\u001b[0m\u001b[1;33m\u001b[0m\u001b[0m\n",
      "\u001b[1;32mC:\\Users\\suneelnair1\\Anaconda3\\lib\\site-packages\\redis\\connection.py\u001b[0m in \u001b[0;36msend_command\u001b[1;34m(self, *args)\u001b[0m\n\u001b[0;32m    608\u001b[0m     \u001b[1;32mdef\u001b[0m \u001b[0msend_command\u001b[0m\u001b[1;33m(\u001b[0m\u001b[0mself\u001b[0m\u001b[1;33m,\u001b[0m \u001b[1;33m*\u001b[0m\u001b[0margs\u001b[0m\u001b[1;33m)\u001b[0m\u001b[1;33m:\u001b[0m\u001b[1;33m\u001b[0m\u001b[0m\n\u001b[0;32m    609\u001b[0m         \u001b[1;34m\"Pack and send a command to the Redis server\"\u001b[0m\u001b[1;33m\u001b[0m\u001b[0m\n\u001b[1;32m--> 610\u001b[1;33m         \u001b[0mself\u001b[0m\u001b[1;33m.\u001b[0m\u001b[0msend_packed_command\u001b[0m\u001b[1;33m(\u001b[0m\u001b[0mself\u001b[0m\u001b[1;33m.\u001b[0m\u001b[0mpack_command\u001b[0m\u001b[1;33m(\u001b[0m\u001b[1;33m*\u001b[0m\u001b[0margs\u001b[0m\u001b[1;33m)\u001b[0m\u001b[1;33m)\u001b[0m\u001b[1;33m\u001b[0m\u001b[0m\n\u001b[0m\u001b[0;32m    611\u001b[0m \u001b[1;33m\u001b[0m\u001b[0m\n\u001b[0;32m    612\u001b[0m     \u001b[1;32mdef\u001b[0m \u001b[0mcan_read\u001b[0m\u001b[1;33m(\u001b[0m\u001b[0mself\u001b[0m\u001b[1;33m,\u001b[0m \u001b[0mtimeout\u001b[0m\u001b[1;33m=\u001b[0m\u001b[1;36m0\u001b[0m\u001b[1;33m)\u001b[0m\u001b[1;33m:\u001b[0m\u001b[1;33m\u001b[0m\u001b[0m\n",
      "\u001b[1;32mC:\\Users\\suneelnair1\\Anaconda3\\lib\\site-packages\\redis\\connection.py\u001b[0m in \u001b[0;36msend_packed_command\u001b[1;34m(self, command)\u001b[0m\n\u001b[0;32m    583\u001b[0m         \u001b[1;34m\"Send an already packed command to the Redis server\"\u001b[0m\u001b[1;33m\u001b[0m\u001b[0m\n\u001b[0;32m    584\u001b[0m         \u001b[1;32mif\u001b[0m \u001b[1;32mnot\u001b[0m \u001b[0mself\u001b[0m\u001b[1;33m.\u001b[0m\u001b[0m_sock\u001b[0m\u001b[1;33m:\u001b[0m\u001b[1;33m\u001b[0m\u001b[0m\n\u001b[1;32m--> 585\u001b[1;33m             \u001b[0mself\u001b[0m\u001b[1;33m.\u001b[0m\u001b[0mconnect\u001b[0m\u001b[1;33m(\u001b[0m\u001b[1;33m)\u001b[0m\u001b[1;33m\u001b[0m\u001b[0m\n\u001b[0m\u001b[0;32m    586\u001b[0m         \u001b[1;32mtry\u001b[0m\u001b[1;33m:\u001b[0m\u001b[1;33m\u001b[0m\u001b[0m\n\u001b[0;32m    587\u001b[0m             \u001b[1;32mif\u001b[0m \u001b[0misinstance\u001b[0m\u001b[1;33m(\u001b[0m\u001b[0mcommand\u001b[0m\u001b[1;33m,\u001b[0m \u001b[0mstr\u001b[0m\u001b[1;33m)\u001b[0m\u001b[1;33m:\u001b[0m\u001b[1;33m\u001b[0m\u001b[0m\n",
      "\u001b[1;32mC:\\Users\\suneelnair1\\Anaconda3\\lib\\site-packages\\redis\\connection.py\u001b[0m in \u001b[0;36mconnect\u001b[1;34m(self)\u001b[0m\n\u001b[0;32m    487\u001b[0m         \u001b[1;32mexcept\u001b[0m \u001b[0msocket\u001b[0m\u001b[1;33m.\u001b[0m\u001b[0merror\u001b[0m\u001b[1;33m:\u001b[0m\u001b[1;33m\u001b[0m\u001b[0m\n\u001b[0;32m    488\u001b[0m             \u001b[0me\u001b[0m \u001b[1;33m=\u001b[0m \u001b[0msys\u001b[0m\u001b[1;33m.\u001b[0m\u001b[0mexc_info\u001b[0m\u001b[1;33m(\u001b[0m\u001b[1;33m)\u001b[0m\u001b[1;33m[\u001b[0m\u001b[1;36m1\u001b[0m\u001b[1;33m]\u001b[0m\u001b[1;33m\u001b[0m\u001b[0m\n\u001b[1;32m--> 489\u001b[1;33m             \u001b[1;32mraise\u001b[0m \u001b[0mConnectionError\u001b[0m\u001b[1;33m(\u001b[0m\u001b[0mself\u001b[0m\u001b[1;33m.\u001b[0m\u001b[0m_error_message\u001b[0m\u001b[1;33m(\u001b[0m\u001b[0me\u001b[0m\u001b[1;33m)\u001b[0m\u001b[1;33m)\u001b[0m\u001b[1;33m\u001b[0m\u001b[0m\n\u001b[0m\u001b[0;32m    490\u001b[0m \u001b[1;33m\u001b[0m\u001b[0m\n\u001b[0;32m    491\u001b[0m         \u001b[0mself\u001b[0m\u001b[1;33m.\u001b[0m\u001b[0m_sock\u001b[0m \u001b[1;33m=\u001b[0m \u001b[0msock\u001b[0m\u001b[1;33m\u001b[0m\u001b[0m\n",
      "\u001b[1;31mConnectionError\u001b[0m: Error 10061 connecting to localhost:6379. No connection could be made because the target machine actively refused it."
     ]
    }
   ],
   "source": [
    "import os\n",
    "from redis import Redis\n",
    "from rq import Worker, Queue, Connection\n",
    "\n",
    "listen = ['default']\n",
    "\n",
    "#redis_url = os.getenv('REDISTOGO_URL','redis://localhost:6379')\n",
    "redis_conn = Redis()\n",
    "\n",
    "\n",
    "if __name__ == '__main__':\n",
    "    with Connection(redis_conn):\n",
    "        worker = Worker(list(map(Queue,listen)))\n",
    "        worker.work()\n"
   ]
  },
  {
   "cell_type": "code",
   "execution_count": 16,
   "metadata": {
    "collapsed": true
   },
   "outputs": [],
   "source": [
    "from rq import Queue\n",
    "from rq.job import Job\n",
    "from redis import Redis\n",
    "from rq import Worker\n",
    "\n",
    "\n",
    "conn = Redis()\n",
    "\n",
    "q = Queue(connection=conn)\n",
    "\n",
    "def func3(img,command_params,env_vars,cpu_memory_vars):\n",
    "    transaction_count = len(env_vars)*len(command_params)\n",
    "    return transaction_count\n",
    "\n"
   ]
  },
  {
   "cell_type": "markdown",
   "metadata": {},
   "source": [
    "## Create the job"
   ]
  },
  {
   "cell_type": "code",
   "execution_count": 17,
   "metadata": {},
   "outputs": [
    {
     "ename": "ConnectionError",
     "evalue": "Error 10061 connecting to localhost:6379. No connection could be made because the target machine actively refused it.",
     "output_type": "error",
     "traceback": [
      "\u001b[1;31m---------------------------------------------------------------------------\u001b[0m",
      "\u001b[1;31mConnectionRefusedError\u001b[0m                    Traceback (most recent call last)",
      "\u001b[1;32mC:\\Users\\suneelnair1\\Anaconda3\\lib\\site-packages\\redis\\connection.py\u001b[0m in \u001b[0;36mconnect\u001b[1;34m(self)\u001b[0m\n\u001b[0;32m    483\u001b[0m         \u001b[1;32mtry\u001b[0m\u001b[1;33m:\u001b[0m\u001b[1;33m\u001b[0m\u001b[0m\n\u001b[1;32m--> 484\u001b[1;33m             \u001b[0msock\u001b[0m \u001b[1;33m=\u001b[0m \u001b[0mself\u001b[0m\u001b[1;33m.\u001b[0m\u001b[0m_connect\u001b[0m\u001b[1;33m(\u001b[0m\u001b[1;33m)\u001b[0m\u001b[1;33m\u001b[0m\u001b[0m\n\u001b[0m\u001b[0;32m    485\u001b[0m         \u001b[1;32mexcept\u001b[0m \u001b[0msocket\u001b[0m\u001b[1;33m.\u001b[0m\u001b[0mtimeout\u001b[0m\u001b[1;33m:\u001b[0m\u001b[1;33m\u001b[0m\u001b[0m\n",
      "\u001b[1;32mC:\\Users\\suneelnair1\\Anaconda3\\lib\\site-packages\\redis\\connection.py\u001b[0m in \u001b[0;36m_connect\u001b[1;34m(self)\u001b[0m\n\u001b[0;32m    540\u001b[0m         \u001b[1;32mif\u001b[0m \u001b[0merr\u001b[0m \u001b[1;32mis\u001b[0m \u001b[1;32mnot\u001b[0m \u001b[1;32mNone\u001b[0m\u001b[1;33m:\u001b[0m\u001b[1;33m\u001b[0m\u001b[0m\n\u001b[1;32m--> 541\u001b[1;33m             \u001b[1;32mraise\u001b[0m \u001b[0merr\u001b[0m\u001b[1;33m\u001b[0m\u001b[0m\n\u001b[0m\u001b[0;32m    542\u001b[0m         \u001b[1;32mraise\u001b[0m \u001b[0msocket\u001b[0m\u001b[1;33m.\u001b[0m\u001b[0merror\u001b[0m\u001b[1;33m(\u001b[0m\u001b[1;34m\"socket.getaddrinfo returned an empty list\"\u001b[0m\u001b[1;33m)\u001b[0m\u001b[1;33m\u001b[0m\u001b[0m\n",
      "\u001b[1;32mC:\\Users\\suneelnair1\\Anaconda3\\lib\\site-packages\\redis\\connection.py\u001b[0m in \u001b[0;36m_connect\u001b[1;34m(self)\u001b[0m\n\u001b[0;32m    528\u001b[0m                 \u001b[1;31m# connect\u001b[0m\u001b[1;33m\u001b[0m\u001b[1;33m\u001b[0m\u001b[0m\n\u001b[1;32m--> 529\u001b[1;33m                 \u001b[0msock\u001b[0m\u001b[1;33m.\u001b[0m\u001b[0mconnect\u001b[0m\u001b[1;33m(\u001b[0m\u001b[0msocket_address\u001b[0m\u001b[1;33m)\u001b[0m\u001b[1;33m\u001b[0m\u001b[0m\n\u001b[0m\u001b[0;32m    530\u001b[0m \u001b[1;33m\u001b[0m\u001b[0m\n",
      "\u001b[1;31mConnectionRefusedError\u001b[0m: [WinError 10061] No connection could be made because the target machine actively refused it",
      "\nDuring handling of the above exception, another exception occurred:\n",
      "\u001b[1;31mConnectionError\u001b[0m                           Traceback (most recent call last)",
      "\u001b[1;32mC:\\Users\\suneelnair1\\Anaconda3\\lib\\site-packages\\redis\\client.py\u001b[0m in \u001b[0;36mexecute\u001b[1;34m(self, raise_on_error)\u001b[0m\n\u001b[0;32m   2878\u001b[0m         \u001b[1;32mtry\u001b[0m\u001b[1;33m:\u001b[0m\u001b[1;33m\u001b[0m\u001b[0m\n\u001b[1;32m-> 2879\u001b[1;33m             \u001b[1;32mreturn\u001b[0m \u001b[0mexecute\u001b[0m\u001b[1;33m(\u001b[0m\u001b[0mconn\u001b[0m\u001b[1;33m,\u001b[0m \u001b[0mstack\u001b[0m\u001b[1;33m,\u001b[0m \u001b[0mraise_on_error\u001b[0m\u001b[1;33m)\u001b[0m\u001b[1;33m\u001b[0m\u001b[0m\n\u001b[0m\u001b[0;32m   2880\u001b[0m         \u001b[1;32mexcept\u001b[0m \u001b[1;33m(\u001b[0m\u001b[0mConnectionError\u001b[0m\u001b[1;33m,\u001b[0m \u001b[0mTimeoutError\u001b[0m\u001b[1;33m)\u001b[0m \u001b[1;32mas\u001b[0m \u001b[0me\u001b[0m\u001b[1;33m:\u001b[0m\u001b[1;33m\u001b[0m\u001b[0m\n",
      "\u001b[1;32mC:\\Users\\suneelnair1\\Anaconda3\\lib\\site-packages\\redis\\client.py\u001b[0m in \u001b[0;36m_execute_transaction\u001b[1;34m(self, connection, commands, raise_on_error)\u001b[0m\n\u001b[0;32m   2748\u001b[0m         \u001b[0mall_cmds\u001b[0m \u001b[1;33m=\u001b[0m \u001b[0mconnection\u001b[0m\u001b[1;33m.\u001b[0m\u001b[0mpack_commands\u001b[0m\u001b[1;33m(\u001b[0m\u001b[1;33m[\u001b[0m\u001b[0margs\u001b[0m \u001b[1;32mfor\u001b[0m \u001b[0margs\u001b[0m\u001b[1;33m,\u001b[0m \u001b[0m_\u001b[0m \u001b[1;32min\u001b[0m \u001b[0mcmds\u001b[0m\u001b[1;33m]\u001b[0m\u001b[1;33m)\u001b[0m\u001b[1;33m\u001b[0m\u001b[0m\n\u001b[1;32m-> 2749\u001b[1;33m         \u001b[0mconnection\u001b[0m\u001b[1;33m.\u001b[0m\u001b[0msend_packed_command\u001b[0m\u001b[1;33m(\u001b[0m\u001b[0mall_cmds\u001b[0m\u001b[1;33m)\u001b[0m\u001b[1;33m\u001b[0m\u001b[0m\n\u001b[0m\u001b[0;32m   2750\u001b[0m         \u001b[0merrors\u001b[0m \u001b[1;33m=\u001b[0m \u001b[1;33m[\u001b[0m\u001b[1;33m]\u001b[0m\u001b[1;33m\u001b[0m\u001b[0m\n",
      "\u001b[1;32mC:\\Users\\suneelnair1\\Anaconda3\\lib\\site-packages\\redis\\connection.py\u001b[0m in \u001b[0;36msend_packed_command\u001b[1;34m(self, command)\u001b[0m\n\u001b[0;32m    584\u001b[0m         \u001b[1;32mif\u001b[0m \u001b[1;32mnot\u001b[0m \u001b[0mself\u001b[0m\u001b[1;33m.\u001b[0m\u001b[0m_sock\u001b[0m\u001b[1;33m:\u001b[0m\u001b[1;33m\u001b[0m\u001b[0m\n\u001b[1;32m--> 585\u001b[1;33m             \u001b[0mself\u001b[0m\u001b[1;33m.\u001b[0m\u001b[0mconnect\u001b[0m\u001b[1;33m(\u001b[0m\u001b[1;33m)\u001b[0m\u001b[1;33m\u001b[0m\u001b[0m\n\u001b[0m\u001b[0;32m    586\u001b[0m         \u001b[1;32mtry\u001b[0m\u001b[1;33m:\u001b[0m\u001b[1;33m\u001b[0m\u001b[0m\n",
      "\u001b[1;32mC:\\Users\\suneelnair1\\Anaconda3\\lib\\site-packages\\redis\\connection.py\u001b[0m in \u001b[0;36mconnect\u001b[1;34m(self)\u001b[0m\n\u001b[0;32m    488\u001b[0m             \u001b[0me\u001b[0m \u001b[1;33m=\u001b[0m \u001b[0msys\u001b[0m\u001b[1;33m.\u001b[0m\u001b[0mexc_info\u001b[0m\u001b[1;33m(\u001b[0m\u001b[1;33m)\u001b[0m\u001b[1;33m[\u001b[0m\u001b[1;36m1\u001b[0m\u001b[1;33m]\u001b[0m\u001b[1;33m\u001b[0m\u001b[0m\n\u001b[1;32m--> 489\u001b[1;33m             \u001b[1;32mraise\u001b[0m \u001b[0mConnectionError\u001b[0m\u001b[1;33m(\u001b[0m\u001b[0mself\u001b[0m\u001b[1;33m.\u001b[0m\u001b[0m_error_message\u001b[0m\u001b[1;33m(\u001b[0m\u001b[0me\u001b[0m\u001b[1;33m)\u001b[0m\u001b[1;33m)\u001b[0m\u001b[1;33m\u001b[0m\u001b[0m\n\u001b[0m\u001b[0;32m    490\u001b[0m \u001b[1;33m\u001b[0m\u001b[0m\n",
      "\u001b[1;31mConnectionError\u001b[0m: Error 10061 connecting to localhost:6379. No connection could be made because the target machine actively refused it.",
      "\nDuring handling of the above exception, another exception occurred:\n",
      "\u001b[1;31mConnectionRefusedError\u001b[0m                    Traceback (most recent call last)",
      "\u001b[1;32mC:\\Users\\suneelnair1\\Anaconda3\\lib\\site-packages\\redis\\connection.py\u001b[0m in \u001b[0;36mconnect\u001b[1;34m(self)\u001b[0m\n\u001b[0;32m    483\u001b[0m         \u001b[1;32mtry\u001b[0m\u001b[1;33m:\u001b[0m\u001b[1;33m\u001b[0m\u001b[0m\n\u001b[1;32m--> 484\u001b[1;33m             \u001b[0msock\u001b[0m \u001b[1;33m=\u001b[0m \u001b[0mself\u001b[0m\u001b[1;33m.\u001b[0m\u001b[0m_connect\u001b[0m\u001b[1;33m(\u001b[0m\u001b[1;33m)\u001b[0m\u001b[1;33m\u001b[0m\u001b[0m\n\u001b[0m\u001b[0;32m    485\u001b[0m         \u001b[1;32mexcept\u001b[0m \u001b[0msocket\u001b[0m\u001b[1;33m.\u001b[0m\u001b[0mtimeout\u001b[0m\u001b[1;33m:\u001b[0m\u001b[1;33m\u001b[0m\u001b[0m\n",
      "\u001b[1;32mC:\\Users\\suneelnair1\\Anaconda3\\lib\\site-packages\\redis\\connection.py\u001b[0m in \u001b[0;36m_connect\u001b[1;34m(self)\u001b[0m\n\u001b[0;32m    540\u001b[0m         \u001b[1;32mif\u001b[0m \u001b[0merr\u001b[0m \u001b[1;32mis\u001b[0m \u001b[1;32mnot\u001b[0m \u001b[1;32mNone\u001b[0m\u001b[1;33m:\u001b[0m\u001b[1;33m\u001b[0m\u001b[0m\n\u001b[1;32m--> 541\u001b[1;33m             \u001b[1;32mraise\u001b[0m \u001b[0merr\u001b[0m\u001b[1;33m\u001b[0m\u001b[0m\n\u001b[0m\u001b[0;32m    542\u001b[0m         \u001b[1;32mraise\u001b[0m \u001b[0msocket\u001b[0m\u001b[1;33m.\u001b[0m\u001b[0merror\u001b[0m\u001b[1;33m(\u001b[0m\u001b[1;34m\"socket.getaddrinfo returned an empty list\"\u001b[0m\u001b[1;33m)\u001b[0m\u001b[1;33m\u001b[0m\u001b[0m\n",
      "\u001b[1;32mC:\\Users\\suneelnair1\\Anaconda3\\lib\\site-packages\\redis\\connection.py\u001b[0m in \u001b[0;36m_connect\u001b[1;34m(self)\u001b[0m\n\u001b[0;32m    528\u001b[0m                 \u001b[1;31m# connect\u001b[0m\u001b[1;33m\u001b[0m\u001b[1;33m\u001b[0m\u001b[0m\n\u001b[1;32m--> 529\u001b[1;33m                 \u001b[0msock\u001b[0m\u001b[1;33m.\u001b[0m\u001b[0mconnect\u001b[0m\u001b[1;33m(\u001b[0m\u001b[0msocket_address\u001b[0m\u001b[1;33m)\u001b[0m\u001b[1;33m\u001b[0m\u001b[0m\n\u001b[0m\u001b[0;32m    530\u001b[0m \u001b[1;33m\u001b[0m\u001b[0m\n",
      "\u001b[1;31mConnectionRefusedError\u001b[0m: [WinError 10061] No connection could be made because the target machine actively refused it",
      "\nDuring handling of the above exception, another exception occurred:\n",
      "\u001b[1;31mConnectionError\u001b[0m                           Traceback (most recent call last)",
      "\u001b[1;32m<ipython-input-17-39b71dec5f85>\u001b[0m in \u001b[0;36m<module>\u001b[1;34m()\u001b[0m\n\u001b[0;32m      1\u001b[0m job = q.enqueue_call(\n\u001b[1;32m----> 2\u001b[1;33m             \u001b[0mfunc\u001b[0m\u001b[1;33m=\u001b[0m\u001b[0mfunc3\u001b[0m\u001b[1;33m,\u001b[0m \u001b[0margs\u001b[0m\u001b[1;33m=\u001b[0m\u001b[1;33m(\u001b[0m\u001b[0mimg\u001b[0m\u001b[1;33m,\u001b[0m\u001b[0mcommand_params\u001b[0m\u001b[1;33m,\u001b[0m\u001b[0menv_vars\u001b[0m\u001b[1;33m,\u001b[0m\u001b[0mcpu_memory_vars\u001b[0m\u001b[1;33m)\u001b[0m\u001b[1;33m,\u001b[0m \u001b[0mresult_ttl\u001b[0m\u001b[1;33m=\u001b[0m\u001b[1;36m5000\u001b[0m\u001b[1;33m\u001b[0m\u001b[0m\n\u001b[0m\u001b[0;32m      3\u001b[0m         )\n\u001b[0;32m      4\u001b[0m \u001b[1;33m\u001b[0m\u001b[0m\n\u001b[0;32m      5\u001b[0m \u001b[0mprint\u001b[0m\u001b[1;33m(\u001b[0m\u001b[0mjob\u001b[0m\u001b[1;33m.\u001b[0m\u001b[0mget_id\u001b[0m\u001b[1;33m(\u001b[0m\u001b[1;33m)\u001b[0m\u001b[1;33m)\u001b[0m\u001b[1;33m\u001b[0m\u001b[0m\n",
      "\u001b[1;32mC:\\Users\\suneelnair1\\Anaconda3\\lib\\site-packages\\rq\\queue.py\u001b[0m in \u001b[0;36menqueue_call\u001b[1;34m(self, func, args, kwargs, timeout, result_ttl, ttl, description, depends_on, job_id, at_front, meta)\u001b[0m\n\u001b[0;32m    250\u001b[0m                         \u001b[1;32mcontinue\u001b[0m\u001b[1;33m\u001b[0m\u001b[0m\n\u001b[0;32m    251\u001b[0m \u001b[1;33m\u001b[0m\u001b[0m\n\u001b[1;32m--> 252\u001b[1;33m         \u001b[0mjob\u001b[0m \u001b[1;33m=\u001b[0m \u001b[0mself\u001b[0m\u001b[1;33m.\u001b[0m\u001b[0menqueue_job\u001b[0m\u001b[1;33m(\u001b[0m\u001b[0mjob\u001b[0m\u001b[1;33m,\u001b[0m \u001b[0mat_front\u001b[0m\u001b[1;33m=\u001b[0m\u001b[0mat_front\u001b[0m\u001b[1;33m)\u001b[0m\u001b[1;33m\u001b[0m\u001b[0m\n\u001b[0m\u001b[0;32m    253\u001b[0m \u001b[1;33m\u001b[0m\u001b[0m\n\u001b[0;32m    254\u001b[0m         \u001b[1;32mreturn\u001b[0m \u001b[0mjob\u001b[0m\u001b[1;33m\u001b[0m\u001b[0m\n",
      "\u001b[1;32mC:\\Users\\suneelnair1\\Anaconda3\\lib\\site-packages\\rq\\queue.py\u001b[0m in \u001b[0;36menqueue_job\u001b[1;34m(self, job, pipeline, at_front)\u001b[0m\n\u001b[0;32m    323\u001b[0m \u001b[1;33m\u001b[0m\u001b[0m\n\u001b[0;32m    324\u001b[0m         \u001b[1;32mif\u001b[0m \u001b[0mpipeline\u001b[0m \u001b[1;32mis\u001b[0m \u001b[1;32mNone\u001b[0m\u001b[1;33m:\u001b[0m\u001b[1;33m\u001b[0m\u001b[0m\n\u001b[1;32m--> 325\u001b[1;33m             \u001b[0mpipe\u001b[0m\u001b[1;33m.\u001b[0m\u001b[0mexecute\u001b[0m\u001b[1;33m(\u001b[0m\u001b[1;33m)\u001b[0m\u001b[1;33m\u001b[0m\u001b[0m\n\u001b[0m\u001b[0;32m    326\u001b[0m \u001b[1;33m\u001b[0m\u001b[0m\n\u001b[0;32m    327\u001b[0m         \u001b[1;32mif\u001b[0m \u001b[1;32mnot\u001b[0m \u001b[0mself\u001b[0m\u001b[1;33m.\u001b[0m\u001b[0m_async\u001b[0m\u001b[1;33m:\u001b[0m\u001b[1;33m\u001b[0m\u001b[0m\n",
      "\u001b[1;32mC:\\Users\\suneelnair1\\Anaconda3\\lib\\site-packages\\redis\\client.py\u001b[0m in \u001b[0;36mexecute\u001b[1;34m(self, raise_on_error)\u001b[0m\n\u001b[0;32m   2892\u001b[0m             \u001b[1;31m# otherwise, it's safe to retry since the transaction isn't\u001b[0m\u001b[1;33m\u001b[0m\u001b[1;33m\u001b[0m\u001b[0m\n\u001b[0;32m   2893\u001b[0m             \u001b[1;31m# predicated on any state\u001b[0m\u001b[1;33m\u001b[0m\u001b[1;33m\u001b[0m\u001b[0m\n\u001b[1;32m-> 2894\u001b[1;33m             \u001b[1;32mreturn\u001b[0m \u001b[0mexecute\u001b[0m\u001b[1;33m(\u001b[0m\u001b[0mconn\u001b[0m\u001b[1;33m,\u001b[0m \u001b[0mstack\u001b[0m\u001b[1;33m,\u001b[0m \u001b[0mraise_on_error\u001b[0m\u001b[1;33m)\u001b[0m\u001b[1;33m\u001b[0m\u001b[0m\n\u001b[0m\u001b[0;32m   2895\u001b[0m         \u001b[1;32mfinally\u001b[0m\u001b[1;33m:\u001b[0m\u001b[1;33m\u001b[0m\u001b[0m\n\u001b[0;32m   2896\u001b[0m             \u001b[0mself\u001b[0m\u001b[1;33m.\u001b[0m\u001b[0mreset\u001b[0m\u001b[1;33m(\u001b[0m\u001b[1;33m)\u001b[0m\u001b[1;33m\u001b[0m\u001b[0m\n",
      "\u001b[1;32mC:\\Users\\suneelnair1\\Anaconda3\\lib\\site-packages\\redis\\client.py\u001b[0m in \u001b[0;36m_execute_transaction\u001b[1;34m(self, connection, commands, raise_on_error)\u001b[0m\n\u001b[0;32m   2747\u001b[0m         \u001b[0mcmds\u001b[0m \u001b[1;33m=\u001b[0m \u001b[0mchain\u001b[0m\u001b[1;33m(\u001b[0m\u001b[1;33m[\u001b[0m\u001b[1;33m(\u001b[0m\u001b[1;33m(\u001b[0m\u001b[1;34m'MULTI'\u001b[0m\u001b[1;33m,\u001b[0m \u001b[1;33m)\u001b[0m\u001b[1;33m,\u001b[0m \u001b[1;33m{\u001b[0m\u001b[1;33m}\u001b[0m\u001b[1;33m)\u001b[0m\u001b[1;33m]\u001b[0m\u001b[1;33m,\u001b[0m \u001b[0mcommands\u001b[0m\u001b[1;33m,\u001b[0m \u001b[1;33m[\u001b[0m\u001b[1;33m(\u001b[0m\u001b[1;33m(\u001b[0m\u001b[1;34m'EXEC'\u001b[0m\u001b[1;33m,\u001b[0m \u001b[1;33m)\u001b[0m\u001b[1;33m,\u001b[0m \u001b[1;33m{\u001b[0m\u001b[1;33m}\u001b[0m\u001b[1;33m)\u001b[0m\u001b[1;33m]\u001b[0m\u001b[1;33m)\u001b[0m\u001b[1;33m\u001b[0m\u001b[0m\n\u001b[0;32m   2748\u001b[0m         \u001b[0mall_cmds\u001b[0m \u001b[1;33m=\u001b[0m \u001b[0mconnection\u001b[0m\u001b[1;33m.\u001b[0m\u001b[0mpack_commands\u001b[0m\u001b[1;33m(\u001b[0m\u001b[1;33m[\u001b[0m\u001b[0margs\u001b[0m \u001b[1;32mfor\u001b[0m \u001b[0margs\u001b[0m\u001b[1;33m,\u001b[0m \u001b[0m_\u001b[0m \u001b[1;32min\u001b[0m \u001b[0mcmds\u001b[0m\u001b[1;33m]\u001b[0m\u001b[1;33m)\u001b[0m\u001b[1;33m\u001b[0m\u001b[0m\n\u001b[1;32m-> 2749\u001b[1;33m         \u001b[0mconnection\u001b[0m\u001b[1;33m.\u001b[0m\u001b[0msend_packed_command\u001b[0m\u001b[1;33m(\u001b[0m\u001b[0mall_cmds\u001b[0m\u001b[1;33m)\u001b[0m\u001b[1;33m\u001b[0m\u001b[0m\n\u001b[0m\u001b[0;32m   2750\u001b[0m         \u001b[0merrors\u001b[0m \u001b[1;33m=\u001b[0m \u001b[1;33m[\u001b[0m\u001b[1;33m]\u001b[0m\u001b[1;33m\u001b[0m\u001b[0m\n\u001b[0;32m   2751\u001b[0m \u001b[1;33m\u001b[0m\u001b[0m\n",
      "\u001b[1;32mC:\\Users\\suneelnair1\\Anaconda3\\lib\\site-packages\\redis\\connection.py\u001b[0m in \u001b[0;36msend_packed_command\u001b[1;34m(self, command)\u001b[0m\n\u001b[0;32m    583\u001b[0m         \u001b[1;34m\"Send an already packed command to the Redis server\"\u001b[0m\u001b[1;33m\u001b[0m\u001b[0m\n\u001b[0;32m    584\u001b[0m         \u001b[1;32mif\u001b[0m \u001b[1;32mnot\u001b[0m \u001b[0mself\u001b[0m\u001b[1;33m.\u001b[0m\u001b[0m_sock\u001b[0m\u001b[1;33m:\u001b[0m\u001b[1;33m\u001b[0m\u001b[0m\n\u001b[1;32m--> 585\u001b[1;33m             \u001b[0mself\u001b[0m\u001b[1;33m.\u001b[0m\u001b[0mconnect\u001b[0m\u001b[1;33m(\u001b[0m\u001b[1;33m)\u001b[0m\u001b[1;33m\u001b[0m\u001b[0m\n\u001b[0m\u001b[0;32m    586\u001b[0m         \u001b[1;32mtry\u001b[0m\u001b[1;33m:\u001b[0m\u001b[1;33m\u001b[0m\u001b[0m\n\u001b[0;32m    587\u001b[0m             \u001b[1;32mif\u001b[0m \u001b[0misinstance\u001b[0m\u001b[1;33m(\u001b[0m\u001b[0mcommand\u001b[0m\u001b[1;33m,\u001b[0m \u001b[0mstr\u001b[0m\u001b[1;33m)\u001b[0m\u001b[1;33m:\u001b[0m\u001b[1;33m\u001b[0m\u001b[0m\n",
      "\u001b[1;32mC:\\Users\\suneelnair1\\Anaconda3\\lib\\site-packages\\redis\\connection.py\u001b[0m in \u001b[0;36mconnect\u001b[1;34m(self)\u001b[0m\n\u001b[0;32m    487\u001b[0m         \u001b[1;32mexcept\u001b[0m \u001b[0msocket\u001b[0m\u001b[1;33m.\u001b[0m\u001b[0merror\u001b[0m\u001b[1;33m:\u001b[0m\u001b[1;33m\u001b[0m\u001b[0m\n\u001b[0;32m    488\u001b[0m             \u001b[0me\u001b[0m \u001b[1;33m=\u001b[0m \u001b[0msys\u001b[0m\u001b[1;33m.\u001b[0m\u001b[0mexc_info\u001b[0m\u001b[1;33m(\u001b[0m\u001b[1;33m)\u001b[0m\u001b[1;33m[\u001b[0m\u001b[1;36m1\u001b[0m\u001b[1;33m]\u001b[0m\u001b[1;33m\u001b[0m\u001b[0m\n\u001b[1;32m--> 489\u001b[1;33m             \u001b[1;32mraise\u001b[0m \u001b[0mConnectionError\u001b[0m\u001b[1;33m(\u001b[0m\u001b[0mself\u001b[0m\u001b[1;33m.\u001b[0m\u001b[0m_error_message\u001b[0m\u001b[1;33m(\u001b[0m\u001b[0me\u001b[0m\u001b[1;33m)\u001b[0m\u001b[1;33m)\u001b[0m\u001b[1;33m\u001b[0m\u001b[0m\n\u001b[0m\u001b[0;32m    490\u001b[0m \u001b[1;33m\u001b[0m\u001b[0m\n\u001b[0;32m    491\u001b[0m         \u001b[0mself\u001b[0m\u001b[1;33m.\u001b[0m\u001b[0m_sock\u001b[0m \u001b[1;33m=\u001b[0m \u001b[0msock\u001b[0m\u001b[1;33m\u001b[0m\u001b[0m\n",
      "\u001b[1;31mConnectionError\u001b[0m: Error 10061 connecting to localhost:6379. No connection could be made because the target machine actively refused it."
     ]
    }
   ],
   "source": [
    "job = q.enqueue_call(\n",
    "            func=func3, args=(img,command_params,env_vars,cpu_memory_vars), result_ttl=5000\n",
    "        )\n",
    "\n",
    "print(job.get_id())"
   ]
  },
  {
   "cell_type": "markdown",
   "metadata": {},
   "source": [
    "## Return and save the results"
   ]
  },
  {
   "cell_type": "code",
   "execution_count": 20,
   "metadata": {
    "collapsed": true
   },
   "outputs": [],
   "source": [
    "# @app.route(\"/results/<job_key>\", methods=['GET'])\n",
    "def get_results(job_key):\n",
    " \n",
    "     job = Job.fetch(job_key, connection=conn)\n",
    " \n",
    "     if job.is_finished:\n",
    "         return str(job.result), 200\n",
    "     else:\n",
    "        return \"Job not finished\", 202"
   ]
  }
 ],
 "metadata": {
  "kernelspec": {
   "display_name": "Python 3",
   "language": "python",
   "name": "python3"
  },
  "language_info": {
   "codemirror_mode": {
    "name": "ipython",
    "version": 3
   },
   "file_extension": ".py",
   "mimetype": "text/x-python",
   "name": "python",
   "nbconvert_exporter": "python",
   "pygments_lexer": "ipython3",
   "version": "3.6.1"
  }
 },
 "nbformat": 4,
 "nbformat_minor": 2
}
